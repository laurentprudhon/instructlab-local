{
 "cells": [
  {
   "cell_type": "markdown",
   "id": "3e89c150-6d40-466e-b0ae-26f6070432fa",
   "metadata": {},
   "source": [
    "# Prepare datasets with Argilla"
   ]
  },
  {
   "cell_type": "markdown",
   "id": "df0bc5b6-29ec-4d0f-b858-1559d0594d77",
   "metadata": {},
   "source": [
    "## 1. Deploy Argilla server locally\n",
    "\n",
    "```bash\n",
    "cd /workspace\n",
    "mkdir argilla && cd argilla\n",
    "wget -O docker-compose.yaml https://raw.githubusercontent.com/argilla-io/argilla/main/examples/deployments/docker/docker-compose.yaml\n",
    "\n",
    "service docker start\n",
    "docker compose up -d\n",
    "```\n",
    "\n",
    "Connect to: http://localhost:6900/\n",
    "\n",
    "Login:\n",
    "\n",
    "> cat docker-compose.yaml\n",
    "\n",
    "- USERNAME: argilla\n",
    "- PASSWORD: 12345678"
   ]
  },
  {
   "cell_type": "markdown",
   "id": "c7ddee55-0946-471a-81a4-e3a900dd0fd9",
   "metadata": {
    "execution": {
     "iopub.execute_input": "2024-08-01T19:50:22.165259Z",
     "iopub.status.busy": "2024-08-01T19:50:22.164739Z",
     "iopub.status.idle": "2024-08-01T19:50:22.168242Z",
     "shell.execute_reply": "2024-08-01T19:50:22.167563Z",
     "shell.execute_reply.started": "2024-08-01T19:50:22.165240Z"
    }
   },
   "source": [
    "## 2. Install Argilla client SDK"
   ]
  },
  {
   "cell_type": "code",
   "execution_count": null,
   "id": "ee59da10-6628-4be2-a3c0-76d64998170e",
   "metadata": {},
   "outputs": [],
   "source": [
    "pip install argilla -U --pre"
   ]
  },
  {
   "cell_type": "code",
   "execution_count": 1,
   "id": "372d9a5f-b2f0-461b-8ed1-ea43c9fe32a9",
   "metadata": {
    "execution": {
     "iopub.execute_input": "2024-08-02T20:01:07.756467Z",
     "iopub.status.busy": "2024-08-02T20:01:07.755762Z",
     "iopub.status.idle": "2024-08-02T20:01:07.772724Z",
     "shell.execute_reply": "2024-08-02T20:01:07.772072Z",
     "shell.execute_reply.started": "2024-08-02T20:01:07.756451Z"
    }
   },
   "outputs": [
    {
     "data": {
      "text/plain": [
       "'2.0.0'"
      ]
     },
     "execution_count": 1,
     "metadata": {},
     "output_type": "execute_result"
    }
   ],
   "source": [
    "from importlib.metadata import version\n",
    "version('argilla')"
   ]
  },
  {
   "cell_type": "markdown",
   "id": "4d571fc3-fb5c-4f41-bd8c-5246a8e86623",
   "metadata": {},
   "source": [
    "API key:\n",
    "\n",
    "> cat docker-compose.yaml\n",
    "\n",
    "API_KEY: argilla.apikey"
   ]
  },
  {
   "cell_type": "code",
   "execution_count": 2,
   "id": "d9ec150a-b221-4198-80cc-e630047c9369",
   "metadata": {
    "execution": {
     "iopub.execute_input": "2024-08-02T20:01:09.681335Z",
     "iopub.status.busy": "2024-08-02T20:01:09.681084Z",
     "iopub.status.idle": "2024-08-02T20:01:10.816090Z",
     "shell.execute_reply": "2024-08-02T20:01:10.815561Z",
     "shell.execute_reply.started": "2024-08-02T20:01:09.681308Z"
    }
   },
   "outputs": [
    {
     "data": {
      "text/plain": [
       "'argilla'"
      ]
     },
     "execution_count": 2,
     "metadata": {},
     "output_type": "execute_result"
    }
   ],
   "source": [
    "import argilla as rg\n",
    "\n",
    "client = rg.Argilla(api_url=\"http://localhost:6900/\", api_key=\"argilla.apikey\")\n",
    "\n",
    "client.me.first_name"
   ]
  },
  {
   "cell_type": "code",
   "execution_count": 24,
   "id": "00f9aaa5-b591-42fd-ab32-cc349990b959",
   "metadata": {
    "execution": {
     "iopub.execute_input": "2024-08-01T22:00:02.785163Z",
     "iopub.status.busy": "2024-08-01T22:00:02.784952Z",
     "iopub.status.idle": "2024-08-01T22:00:02.854867Z",
     "shell.execute_reply": "2024-08-01T22:00:02.853916Z",
     "shell.execute_reply.started": "2024-08-01T22:00:02.785145Z"
    }
   },
   "outputs": [],
   "source": [
    "workspace_to_create = rg.Workspace(name=\"argilla\")\n",
    "created_workspace = workspace_to_create.create()"
   ]
  },
  {
   "cell_type": "markdown",
   "id": "336070f3-bc3d-44fd-8e15-0c42e48a6e7b",
   "metadata": {},
   "source": [
    "## 3. Import Agilla dataset"
   ]
  },
  {
   "cell_type": "markdown",
   "id": "0d91a687-2514-4ccd-bb4b-c8e042d0381c",
   "metadata": {},
   "source": [
    "### 3.1 Load Huggingface dataset"
   ]
  },
  {
   "cell_type": "markdown",
   "id": "c1eeaabd-7986-40d1-9e20-8a235021707c",
   "metadata": {},
   "source": [
    "https://huggingface.co/datasets/frenchtext/banque-fr-2311\n",
    "\n",
    "Dataset extracted from public websites by wordslab-webscraper in 2311:\n",
    "- domain: banque\n",
    "- language: fr\n",
    "- license: Apache 2.0"
   ]
  },
  {
   "cell_type": "code",
   "execution_count": null,
   "id": "b5152bf7-5883-4dde-94f1-16d587f411f7",
   "metadata": {},
   "outputs": [],
   "source": [
    "pip install datasets"
   ]
  },
  {
   "cell_type": "code",
   "execution_count": 3,
   "id": "c6d9fb7d-7b10-40f4-bfc5-9e51858b8235",
   "metadata": {
    "execution": {
     "iopub.execute_input": "2024-08-02T20:01:21.742985Z",
     "iopub.status.busy": "2024-08-02T20:01:21.742543Z",
     "iopub.status.idle": "2024-08-02T20:01:27.074251Z",
     "shell.execute_reply": "2024-08-02T20:01:27.073506Z",
     "shell.execute_reply.started": "2024-08-02T20:01:21.742964Z"
    }
   },
   "outputs": [
    {
     "data": {
      "application/vnd.jupyter.widget-view+json": {
       "model_id": "13e1a0dec81644fc9c441a887dfee6d7",
       "version_major": 2,
       "version_minor": 0
      },
      "text/plain": [
       "Resolving data files:   0%|          | 0/42 [00:00<?, ?it/s]"
      ]
     },
     "metadata": {},
     "output_type": "display_data"
    },
    {
     "data": {
      "application/vnd.jupyter.widget-view+json": {
       "model_id": "141693bae7fc4aada4b9cbdf2d0728be",
       "version_major": 2,
       "version_minor": 0
      },
      "text/plain": [
       "Resolving data files:   0%|          | 0/42 [00:00<?, ?it/s]"
      ]
     },
     "metadata": {},
     "output_type": "display_data"
    },
    {
     "data": {
      "application/vnd.jupyter.widget-view+json": {
       "model_id": "2842d9342e48450e94ec69b181867c02",
       "version_major": 2,
       "version_minor": 0
      },
      "text/plain": [
       "Resolving data files:   0%|          | 0/42 [00:00<?, ?it/s]"
      ]
     },
     "metadata": {},
     "output_type": "display_data"
    },
    {
     "data": {
      "application/vnd.jupyter.widget-view+json": {
       "model_id": "d9dbcdfe097148e18f731206fd5284a5",
       "version_major": 2,
       "version_minor": 0
      },
      "text/plain": [
       "Resolving data files:   0%|          | 0/42 [00:00<?, ?it/s]"
      ]
     },
     "metadata": {},
     "output_type": "display_data"
    },
    {
     "data": {
      "application/vnd.jupyter.widget-view+json": {
       "model_id": "0a3bdf9f5ac64fb181ba0e23f24fe394",
       "version_major": 2,
       "version_minor": 0
      },
      "text/plain": [
       "Resolving data files:   0%|          | 0/42 [00:00<?, ?it/s]"
      ]
     },
     "metadata": {},
     "output_type": "display_data"
    },
    {
     "data": {
      "application/vnd.jupyter.widget-view+json": {
       "model_id": "0e5030a592dd4ce09608d7b8eb088ce3",
       "version_major": 2,
       "version_minor": 0
      },
      "text/plain": [
       "Resolving data files:   0%|          | 0/42 [00:00<?, ?it/s]"
      ]
     },
     "metadata": {},
     "output_type": "display_data"
    }
   ],
   "source": [
    "from datasets import load_dataset\n",
    "\n",
    "with open(\"/workspace/myhftoken\", 'r') as file:\n",
    "    myhftoken = file.read().strip()\n",
    "\n",
    "hf_dataset = load_dataset(\"frenchtext/banque-fr-2311\",  token=myhftoken)"
   ]
  },
  {
   "cell_type": "markdown",
   "id": "1b467227-d801-41c6-949e-405d458f5632",
   "metadata": {},
   "source": [
    "```yaml\n",
    "dataset_info:\n",
    "  features:\n",
    "    - name: Uri\n",
    "      dtype: string\n",
    "    - name: Timestamp\n",
    "      dtype: string\n",
    "    - name: Lang\n",
    "      dtype: string\n",
    "    - name: Title\n",
    "      dtype: string\n",
    "    - name: Text\n",
    "      dtype: string\n",
    "    - name: Words\n",
    "      dtype: int32\n",
    "    - name: AvgWordsLength\n",
    "      dtype: int32\n",
    "    - name: Chars\n",
    "      dtype: int32\n",
    "    - name: LetterChars\n",
    "      dtype: int32\n",
    "    - name: NumberChars\n",
    "      dtype: int32\n",
    "    - name: OtherChars\n",
    "      dtype: int32\n",
    "    - name: Website\n",
    "      dtype: string\n",
    "    - name: PDF\n",
    "      dtype: bool\n",
    "  config_name: default\n",
    "  splits:\n",
    "    - name: train\n",
    "      num_examples: 68166\n",
    "    - name: valid\n",
    "      num_examples: 8522\n",
    "    - name: test\n",
    "      num_examples: 8541\n",
    "  download_size: 247147772\n",
    "  ```"
   ]
  },
  {
   "cell_type": "markdown",
   "id": "efe57c74-9e7f-4e58-8271-c0ee30695cb7",
   "metadata": {},
   "source": [
    "### 3.2 Compute text embeddings"
   ]
  },
  {
   "cell_type": "markdown",
   "id": "5afac48a-7ea4-4efc-bcbb-b1eb75aee78e",
   "metadata": {},
   "source": [
    "MTEB-French: Resources for French Sentence Embedding Evaluation and Analysis\n",
    "\n",
    "https://arxiv.org/pdf/2405.20468v2\n",
    "\n",
    "=> multilingual-e5-base for clustering = 768 embeddings dimensions\n",
    "\n",
    "https://github.com/microsoft/unilm/tree/master/e5\n",
    "\n",
    "https://huggingface.co/intfloat/multilingual-e5-small --- https://huggingface.co/intfloat/multilingual-e5-base"
   ]
  },
  {
   "cell_type": "code",
   "execution_count": null,
   "id": "8314c5a3-f07b-4e98-822d-2a52e10c024f",
   "metadata": {},
   "outputs": [],
   "source": [
    "pip install sentence_transformers"
   ]
  },
  {
   "cell_type": "code",
   "execution_count": 4,
   "id": "87d4791f-79d1-4808-a893-dfc7417cedfc",
   "metadata": {
    "execution": {
     "iopub.execute_input": "2024-08-02T20:01:55.857733Z",
     "iopub.status.busy": "2024-08-02T20:01:55.856816Z",
     "iopub.status.idle": "2024-08-02T20:02:03.631873Z",
     "shell.execute_reply": "2024-08-02T20:02:03.631321Z",
     "shell.execute_reply.started": "2024-08-02T20:01:55.857688Z"
    }
   },
   "outputs": [],
   "source": [
    "from sentence_transformers import SentenceTransformer\n",
    "model = SentenceTransformer('intfloat/multilingual-e5-base', device=\"cuda\")"
   ]
  },
  {
   "cell_type": "code",
   "execution_count": 5,
   "id": "8ae9f27d-f483-4472-8f11-80f9a1430a81",
   "metadata": {
    "execution": {
     "iopub.execute_input": "2024-08-02T20:02:24.448538Z",
     "iopub.status.busy": "2024-08-02T20:02:24.447856Z",
     "iopub.status.idle": "2024-08-02T20:02:25.648568Z",
     "shell.execute_reply": "2024-08-02T20:02:25.647995Z",
     "shell.execute_reply.started": "2024-08-02T20:02:24.448489Z"
    }
   },
   "outputs": [],
   "source": [
    "input_texts = [\n",
    "    'query: how much protein should a female eat',\n",
    "    'query: 南瓜的家常做法',\n",
    "    \"passage: As a general guideline, the CDC's average requirement of protein for women ages 19 to 70 i     s 46 grams per day. But, as you can see from this chart, you'll need to increase that if you're expecting or traini     ng for a marathon. Check out the chart below to see how much protein you should be eating each day.\",\n",
    "    \"passage: 1.清炒南瓜丝 原料:嫩南瓜半个 调料:葱、盐、白糖、鸡精 做法: 1、南瓜用刀薄薄的削去表面一层皮     ,用勺子刮去瓤 2、擦成细丝(没有擦菜板就用刀慢慢切成细丝) 3、锅烧热放油,入葱花煸出香味 4、入南瓜丝快速翻炒一分钟左右,     放盐、一点白糖和鸡精调味出锅 2.香葱炒南瓜 原料:南瓜1只 调料:香葱、蒜末、橄榄油、盐 做法: 1、将南瓜去皮,切成片 2、油     锅8成热后,将蒜末放入爆香 3、爆香后,将南瓜片放入,翻炒 4、在翻炒的同时,可以不时地往锅里加水,但不要太多 5、放入盐,炒匀      6、南瓜差不多软和绵了之后,就可以关火 7、撒入香葱,即可出锅\"\n",
    "]\n",
    "embeddings = model.encode(input_texts, normalize_embeddings=True)"
   ]
  },
  {
   "cell_type": "code",
   "execution_count": 6,
   "id": "89955e09-7184-4437-a3f8-e16534d300e2",
   "metadata": {
    "execution": {
     "iopub.execute_input": "2024-08-02T20:02:25.649417Z",
     "iopub.status.busy": "2024-08-02T20:02:25.649280Z",
     "iopub.status.idle": "2024-08-02T20:02:25.669721Z",
     "shell.execute_reply": "2024-08-02T20:02:25.653089Z",
     "shell.execute_reply.started": "2024-08-02T20:02:25.649407Z"
    }
   },
   "outputs": [
    {
     "data": {
      "text/plain": [
       "(4, 768)"
      ]
     },
     "execution_count": 6,
     "metadata": {},
     "output_type": "execute_result"
    }
   ],
   "source": [
    "embeddings.shape"
   ]
  },
  {
   "cell_type": "code",
   "execution_count": 7,
   "id": "67400eae-c6bc-4761-b264-690660cbb558",
   "metadata": {
    "execution": {
     "iopub.execute_input": "2024-08-02T20:02:25.670490Z",
     "iopub.status.busy": "2024-08-02T20:02:25.670320Z",
     "iopub.status.idle": "2024-08-02T20:02:25.702142Z",
     "shell.execute_reply": "2024-08-02T20:02:25.701668Z",
     "shell.execute_reply.started": "2024-08-02T20:02:25.670476Z"
    }
   },
   "outputs": [
    {
     "data": {
      "text/plain": [
       "Dataset({\n",
       "    features: ['Uri', 'Timestamp', 'Lang', 'Title', 'Text', 'Words', 'AvgWordsLength', 'Chars', 'LetterChars', 'NumberChars', 'OtherChars', 'Website', 'PDF'],\n",
       "    num_rows: 8522\n",
       "})"
      ]
     },
     "execution_count": 7,
     "metadata": {},
     "output_type": "execute_result"
    }
   ],
   "source": [
    "hf_ds_valid = hf_dataset[\"valid\"]\n",
    "hf_ds_valid"
   ]
  },
  {
   "cell_type": "code",
   "execution_count": 8,
   "id": "61d109d2-3136-48b5-af9f-82793ff68248",
   "metadata": {
    "execution": {
     "iopub.execute_input": "2024-08-02T20:02:32.695774Z",
     "iopub.status.busy": "2024-08-02T20:02:32.695424Z",
     "iopub.status.idle": "2024-08-02T20:02:32.701045Z",
     "shell.execute_reply": "2024-08-02T20:02:32.699542Z",
     "shell.execute_reply.started": "2024-08-02T20:02:32.695750Z"
    }
   },
   "outputs": [],
   "source": [
    "def embed(example):\n",
    "    example[\"Text_e5_embeddings\"] = model.encode(example[\"Text\"])\n",
    "    return example"
   ]
  },
  {
   "cell_type": "code",
   "execution_count": 16,
   "id": "83f50c55-8f0d-414a-a24c-a4e51253ffc7",
   "metadata": {
    "execution": {
     "iopub.execute_input": "2024-08-02T20:21:43.720445Z",
     "iopub.status.busy": "2024-08-02T20:21:43.720150Z",
     "iopub.status.idle": "2024-08-02T21:06:29.548918Z",
     "shell.execute_reply": "2024-08-02T21:06:29.548425Z",
     "shell.execute_reply.started": "2024-08-02T20:21:43.720425Z"
    }
   },
   "outputs": [
    {
     "data": {
      "application/vnd.jupyter.widget-view+json": {
       "model_id": "8972412654f24b729c15d3ca46dfdfb7",
       "version_major": 2,
       "version_minor": 0
      },
      "text/plain": [
       "Map:   0%|          | 0/68166 [00:00<?, ? examples/s]"
      ]
     },
     "metadata": {},
     "output_type": "display_data"
    },
    {
     "data": {
      "application/vnd.jupyter.widget-view+json": {
       "model_id": "9a0cc1b95ca541379ab418d259b91aba",
       "version_major": 2,
       "version_minor": 0
      },
      "text/plain": [
       "Map:   0%|          | 0/8522 [00:00<?, ? examples/s]"
      ]
     },
     "metadata": {},
     "output_type": "display_data"
    },
    {
     "data": {
      "application/vnd.jupyter.widget-view+json": {
       "model_id": "c20684d7d379460d92601c5af6eb693f",
       "version_major": 2,
       "version_minor": 0
      },
      "text/plain": [
       "Map:   0%|          | 0/8541 [00:00<?, ? examples/s]"
      ]
     },
     "metadata": {},
     "output_type": "display_data"
    }
   ],
   "source": [
    "hf_dataset = hf_dataset.map(embed)"
   ]
  },
  {
   "cell_type": "code",
   "execution_count": 18,
   "id": "d9db9c1a-c04a-4245-9cc1-ca1c65a7e96a",
   "metadata": {
    "execution": {
     "iopub.execute_input": "2024-08-02T21:07:54.077948Z",
     "iopub.status.busy": "2024-08-02T21:07:54.077203Z",
     "iopub.status.idle": "2024-08-02T21:07:54.613969Z",
     "shell.execute_reply": "2024-08-02T21:07:54.613528Z",
     "shell.execute_reply.started": "2024-08-02T21:07:54.077923Z"
    }
   },
   "outputs": [
    {
     "data": {
      "application/vnd.jupyter.widget-view+json": {
       "model_id": "83aa820d980445da959c0c583ef95c35",
       "version_major": 2,
       "version_minor": 0
      },
      "text/plain": [
       "Saving the dataset (0/2 shards):   0%|          | 0/68166 [00:00<?, ? examples/s]"
      ]
     },
     "metadata": {},
     "output_type": "display_data"
    },
    {
     "data": {
      "application/vnd.jupyter.widget-view+json": {
       "model_id": "e0d4f98e123d43e1a147fb4d74e830e1",
       "version_major": 2,
       "version_minor": 0
      },
      "text/plain": [
       "Saving the dataset (0/1 shards):   0%|          | 0/8522 [00:00<?, ? examples/s]"
      ]
     },
     "metadata": {},
     "output_type": "display_data"
    },
    {
     "data": {
      "application/vnd.jupyter.widget-view+json": {
       "model_id": "c2f25f8c04604f6eacf96b99bdd224ab",
       "version_major": 2,
       "version_minor": 0
      },
      "text/plain": [
       "Saving the dataset (0/1 shards):   0%|          | 0/8541 [00:00<?, ? examples/s]"
      ]
     },
     "metadata": {},
     "output_type": "display_data"
    }
   ],
   "source": [
    "hf_dataset.save_to_disk(\"/models/huggingface/datasets/frenchtext___banque-fr-2311/preprocessed\")"
   ]
  },
  {
   "cell_type": "code",
   "execution_count": 19,
   "id": "92ef28e2-61c5-4337-81f0-07c95944f1c5",
   "metadata": {
    "execution": {
     "iopub.execute_input": "2024-08-02T21:07:58.675611Z",
     "iopub.status.busy": "2024-08-02T21:07:58.675371Z",
     "iopub.status.idle": "2024-08-02T21:07:58.711797Z",
     "shell.execute_reply": "2024-08-02T21:07:58.711170Z",
     "shell.execute_reply.started": "2024-08-02T21:07:58.675599Z"
    }
   },
   "outputs": [],
   "source": [
    "from datasets import load_from_disk\n",
    "hf_dataset = load_from_disk(\"/models/huggingface/datasets/frenchtext___banque-fr-2311/preprocessed\")"
   ]
  },
  {
   "cell_type": "code",
   "execution_count": 20,
   "id": "edca9f00-d5cd-4407-ac05-565f1ae9d3a3",
   "metadata": {
    "execution": {
     "iopub.execute_input": "2024-08-02T21:07:59.534372Z",
     "iopub.status.busy": "2024-08-02T21:07:59.534099Z",
     "iopub.status.idle": "2024-08-02T21:07:59.539751Z",
     "shell.execute_reply": "2024-08-02T21:07:59.539125Z",
     "shell.execute_reply.started": "2024-08-02T21:07:59.534354Z"
    }
   },
   "outputs": [
    {
     "data": {
      "text/plain": [
       "DatasetDict({\n",
       "    train: Dataset({\n",
       "        features: ['Uri', 'Timestamp', 'Lang', 'Title', 'Text', 'Words', 'AvgWordsLength', 'Chars', 'LetterChars', 'NumberChars', 'OtherChars', 'Website', 'PDF', 'Text_e5_embeddings'],\n",
       "        num_rows: 68166\n",
       "    })\n",
       "    valid: Dataset({\n",
       "        features: ['Uri', 'Timestamp', 'Lang', 'Title', 'Text', 'Words', 'AvgWordsLength', 'Chars', 'LetterChars', 'NumberChars', 'OtherChars', 'Website', 'PDF', 'Text_e5_embeddings'],\n",
       "        num_rows: 8522\n",
       "    })\n",
       "    test: Dataset({\n",
       "        features: ['Uri', 'Timestamp', 'Lang', 'Title', 'Text', 'Words', 'AvgWordsLength', 'Chars', 'LetterChars', 'NumberChars', 'OtherChars', 'Website', 'PDF', 'Text_e5_embeddings'],\n",
       "        num_rows: 8541\n",
       "    })\n",
       "})"
      ]
     },
     "execution_count": 20,
     "metadata": {},
     "output_type": "execute_result"
    }
   ],
   "source": [
    "hf_dataset"
   ]
  },
  {
   "cell_type": "markdown",
   "id": "19cd8a85-c1ae-4cf6-8afd-6a63c7e443bc",
   "metadata": {},
   "source": [
    "### 3.3 Create empty Argilla dataset"
   ]
  },
  {
   "cell_type": "markdown",
   "id": "91c52e9c-f738-412c-88a9-bed4ba00d3e2",
   "metadata": {},
   "source": [
    "**IMPORTANT** !!!\n",
    "\n",
    "- Argilla dataset fields **names are converted to lowercase** and **spaces in names are replaced by _**\n",
    "\n",
    "```python\n",
    "@field_validator(\"name\")\n",
    "@classmethod\n",
    "def __name_lower(cls, name):\n",
    "    formatted_name = name.lower().replace(\" \", \"_\")\n",
    "    return formatted_name\n",
    "```\n",
    "\n",
    "- then the comparison with Huggingface datasets column names is **case sensitive**\n",
    "\n",
    "The consequence is that \n",
    "- **you should always use only lowercase names** in Argilla dataset settings\n",
    "- **you need to define an explicit mapping** with Huggingface datasets uppercase columns"
   ]
  },
  {
   "cell_type": "code",
   "execution_count": 109,
   "id": "617da703-c9e4-4512-803f-9992adfc5b9b",
   "metadata": {
    "execution": {
     "iopub.execute_input": "2024-08-04T15:30:15.727898Z",
     "iopub.status.busy": "2024-08-04T15:30:15.727566Z",
     "iopub.status.idle": "2024-08-04T15:30:15.747318Z",
     "shell.execute_reply": "2024-08-04T15:30:15.746529Z",
     "shell.execute_reply.started": "2024-08-04T15:30:15.727878Z"
    }
   },
   "outputs": [],
   "source": [
    "settings = rg.Settings(\n",
    "    guidelines=\"Explore french banking websites dataset - date \",\n",
    "    fields=[\n",
    "        rg.TextField(\n",
    "            name=\"text\",\n",
    "            title=\"Web page text\",\n",
    "            required=True,\n",
    "            use_markdown=True,            \n",
    "        ),\n",
    "    ],\n",
    "    questions=[\n",
    "        rg.MultiLabelQuestion(\n",
    "            name=\"contenttype\",\n",
    "            title=\"Does the web page include any of these content types?\",\n",
    "            labels=[\"info\", \"news\", \"product\", \"process\", \"ads\", \"metadata\"],\n",
    "        )\n",
    "    ],\n",
    "    metadata=[\n",
    "        rg.TermsMetadataProperty(name=\"uri\"),\n",
    "        rg.TermsMetadataProperty(name=\"lang\"),\n",
    "        rg.IntegerMetadataProperty(name=\"words\"),\n",
    "        rg.TermsMetadataProperty(name=\"website\"),\n",
    "        rg.IntegerMetadataProperty(name=\"pdf\"),\n",
    "    ],\n",
    "    vectors=[\n",
    "        rg.VectorField(name=\"text_e5_embeddings\", dimensions=768)\n",
    "    ],\n",
    ")"
   ]
  },
  {
   "cell_type": "code",
   "execution_count": 25,
   "id": "0c795000-5587-4243-ae21-90ed0db57d54",
   "metadata": {
    "collapsed": true,
    "execution": {
     "iopub.execute_input": "2024-08-01T22:01:48.476072Z",
     "iopub.status.busy": "2024-08-01T22:01:48.475744Z",
     "iopub.status.idle": "2024-08-01T22:01:49.361030Z",
     "shell.execute_reply": "2024-08-01T22:01:49.360547Z",
     "shell.execute_reply.started": "2024-08-01T22:01:48.476056Z"
    },
    "jupyter": {
     "outputs_hidden": true
    }
   },
   "outputs": [
    {
     "data": {
      "text/plain": [
       "Dataset(id=UUID('2cda3686-e350-4999-897d-8f30c01c81f1') inserted_at=datetime.datetime(2024, 8, 1, 22, 1, 48, 500104) updated_at=datetime.datetime(2024, 8, 1, 22, 1, 49, 262278) name='banque-fr-2311' status='ready' guidelines='Explore french banking websites dataset - date' allow_extra_metadata=False distribution=OverlapTaskDistributionModel(strategy='overlap', min_submitted=1) workspace_id=UUID('485e94ed-4e72-496c-9d92-756baea3882d') last_activity_at=datetime.datetime(2024, 8, 1, 22, 1, 49, 262278))"
      ]
     },
     "execution_count": 25,
     "metadata": {},
     "output_type": "execute_result"
    }
   ],
   "source": [
    "dataset = rg.Dataset(\n",
    "    name=\"banque-fr-2311\",\n",
    "    workspace=\"argilla\",\n",
    "    settings=settings,\n",
    ")\n",
    "\n",
    "dataset.create()"
   ]
  },
  {
   "cell_type": "code",
   "execution_count": 26,
   "id": "8c5a192f-199c-4074-96ac-5bb4fbadd48c",
   "metadata": {
    "execution": {
     "iopub.execute_input": "2024-08-02T21:15:09.311238Z",
     "iopub.status.busy": "2024-08-02T21:15:09.310727Z",
     "iopub.status.idle": "2024-08-02T21:15:09.443886Z",
     "shell.execute_reply": "2024-08-02T21:15:09.443273Z",
     "shell.execute_reply.started": "2024-08-02T21:15:09.311218Z"
    }
   },
   "outputs": [
    {
     "data": {
      "text/plain": [
       "Dataset(id=UUID('2cda3686-e350-4999-897d-8f30c01c81f1') inserted_at=datetime.datetime(2024, 8, 1, 22, 1, 48, 500104) updated_at=datetime.datetime(2024, 8, 1, 22, 1, 49, 262278) name='banque-fr-2311' status='ready' guidelines='Explore french banking websites dataset - date' allow_extra_metadata=False distribution=OverlapTaskDistributionModel(strategy='overlap', min_submitted=1) workspace_id=UUID('485e94ed-4e72-496c-9d92-756baea3882d') last_activity_at=datetime.datetime(2024, 8, 1, 22, 1, 49, 262278))"
      ]
     },
     "execution_count": 26,
     "metadata": {},
     "output_type": "execute_result"
    }
   ],
   "source": [
    "dataset = client.datasets(name=\"banque-fr-2311\")\n",
    "dataset"
   ]
  },
  {
   "cell_type": "code",
   "execution_count": 66,
   "id": "1cb19434-1da8-4772-984b-041483a59f1f",
   "metadata": {
    "execution": {
     "iopub.execute_input": "2024-08-02T22:40:59.076592Z",
     "iopub.status.busy": "2024-08-02T22:40:59.076201Z",
     "iopub.status.idle": "2024-08-02T22:41:13.158957Z",
     "shell.execute_reply": "2024-08-02T22:41:13.158154Z",
     "shell.execute_reply.started": "2024-08-02T22:40:59.076567Z"
    }
   },
   "outputs": [
    {
     "data": {
      "application/vnd.jupyter.widget-view+json": {
       "model_id": "d3f9716aa92f48ca9214126361147d56",
       "version_major": 2,
       "version_minor": 0
      },
      "text/plain": [
       "Map:   0%|          | 0/68166 [00:00<?, ? examples/s]"
      ]
     },
     "metadata": {},
     "output_type": "display_data"
    },
    {
     "data": {
      "application/vnd.jupyter.widget-view+json": {
       "model_id": "1bcf6f45ced743629372aabb69d85c3d",
       "version_major": 2,
       "version_minor": 0
      },
      "text/plain": [
       "Map:   0%|          | 0/8522 [00:00<?, ? examples/s]"
      ]
     },
     "metadata": {},
     "output_type": "display_data"
    },
    {
     "data": {
      "application/vnd.jupyter.widget-view+json": {
       "model_id": "283d714f407a432fb807834b0aefedbe",
       "version_major": 2,
       "version_minor": 0
      },
      "text/plain": [
       "Map:   0%|          | 0/8541 [00:00<?, ? examples/s]"
      ]
     },
     "metadata": {},
     "output_type": "display_data"
    },
    {
     "data": {
      "text/plain": [
       "DatasetDict({\n",
       "    train: Dataset({\n",
       "        features: ['Uri', 'Timestamp', 'Lang', 'Title', 'Text', 'Words', 'AvgWordsLength', 'Chars', 'LetterChars', 'NumberChars', 'OtherChars', 'Website', 'PDF', 'Text_e5_embeddings', 'PDF_int'],\n",
       "        num_rows: 68166\n",
       "    })\n",
       "    valid: Dataset({\n",
       "        features: ['Uri', 'Timestamp', 'Lang', 'Title', 'Text', 'Words', 'AvgWordsLength', 'Chars', 'LetterChars', 'NumberChars', 'OtherChars', 'Website', 'PDF', 'Text_e5_embeddings', 'PDF_int'],\n",
       "        num_rows: 8522\n",
       "    })\n",
       "    test: Dataset({\n",
       "        features: ['Uri', 'Timestamp', 'Lang', 'Title', 'Text', 'Words', 'AvgWordsLength', 'Chars', 'LetterChars', 'NumberChars', 'OtherChars', 'Website', 'PDF', 'Text_e5_embeddings', 'PDF_int'],\n",
       "        num_rows: 8541\n",
       "    })\n",
       "})"
      ]
     },
     "execution_count": 66,
     "metadata": {},
     "output_type": "execute_result"
    }
   ],
   "source": [
    "def convert_pdf(example):\n",
    "    example[\"PDF_int\"] = 1 if example[\"PDF\"] else 0\n",
    "    return example\n",
    "\n",
    "hf_dataset.map(convert_pdf)"
   ]
  },
  {
   "cell_type": "code",
   "execution_count": 112,
   "id": "69a883b2-6480-49ed-a45f-a6fe5c987f63",
   "metadata": {
    "execution": {
     "iopub.execute_input": "2024-08-04T15:31:09.916380Z",
     "iopub.status.busy": "2024-08-04T15:31:09.915750Z",
     "iopub.status.idle": "2024-08-04T15:31:09.919777Z",
     "shell.execute_reply": "2024-08-04T15:31:09.919248Z",
     "shell.execute_reply.started": "2024-08-04T15:31:09.916361Z"
    }
   },
   "outputs": [],
   "source": [
    "hfmapping = {\"Text\":\"text\", \"Uri\":\"uri\", \"Lang\":\"lang\", \"Words\":\"words\", \"Website\":\"website\", \"PDF_int\":\"pdf\", \"Text_e5_embeddings\":\"text_e5_embeddings\"}"
   ]
  },
  {
   "cell_type": "code",
   "execution_count": 68,
   "id": "0865a2e4-ade9-4bce-bf0b-335858ac020d",
   "metadata": {
    "execution": {
     "iopub.execute_input": "2024-08-02T22:41:19.777165Z",
     "iopub.status.busy": "2024-08-02T22:41:19.776439Z",
     "iopub.status.idle": "2024-08-02T23:02:50.391841Z",
     "shell.execute_reply": "2024-08-02T23:02:50.391221Z",
     "shell.execute_reply.started": "2024-08-02T22:41:19.777147Z"
    }
   },
   "outputs": [
    {
     "name": "stderr",
     "output_type": "stream",
     "text": [
      "Sending records...: 267batch [16:30,  3.71s/batch]                                                                      \n",
      "Sending records...: 34batch [01:54,  3.36s/batch]                                                                       \n",
      "Sending records...: 34batch [01:52,  3.29s/batch]                                                                       \n"
     ]
    }
   ],
   "source": [
    "for split,ds in hf_dataset.items():\n",
    "    dataset.records.log(records=hf_dataset[split], mapping=hfmapping)"
   ]
  },
  {
   "cell_type": "markdown",
   "id": "db06f05d-07ff-4f81-ad06-f096a6cb1447",
   "metadata": {
    "jp-MarkdownHeadingCollapsed": true
   },
   "source": [
    "### Debugging the HF to Argilla mapping"
   ]
  },
  {
   "cell_type": "code",
   "execution_count": 33,
   "id": "764cd247-7e4c-4b65-995d-46462e437e1c",
   "metadata": {
    "execution": {
     "iopub.execute_input": "2024-08-02T21:44:16.957726Z",
     "iopub.status.busy": "2024-08-02T21:44:16.957501Z",
     "iopub.status.idle": "2024-08-02T21:44:16.980448Z",
     "shell.execute_reply": "2024-08-02T21:44:16.979395Z",
     "shell.execute_reply.started": "2024-08-02T21:44:16.957707Z"
    }
   },
   "outputs": [],
   "source": [
    "record_dict = {'Uri': 'https://banque.meilleurtaux.com/changer-de-banque/actualites/2020-fevrier/banques-ameliorent-cybersecurite-proteger-menace-grandissante.html', 'Timestamp': '11/07/2023 21:53:27', 'Lang': 'fr', 'Title': 'Les banques améliorent leur cybersécurité pour se protéger d’une menace grandissante - Meilleurtaux Banques', 'Text': \"# Les banques améliorent leur cybersécurité pour se protéger d’une menace grandissante\\r\\n\\r\\nSécurité de la carte bancaire\\r\\n\\r\\nDepuis quelques années, les cyberattaques contre les institutions financières tendent à se multiplier et à s’aggraver. Les acteurs du secteur bancaire s’efforcent tant bien que mal de les anticiper en comblant les failles dans leur système informatique, mais les hackers les prennent souvent de court. Afin d’éviter les situations catastrophiques, les banques réinventent leur politique en matière de cybersécurité.\\r\\n\\r\\nFin 2019, le géant des changes Travelex a été victime d’un ransomware affectant ses différents partenaires, incluant HSBC, Barclays, ou encore le Royal Bank of Scotland. Concrètement, les hackers ont lancé un virus perturbant le système informatique de l’établissement. Ils ont ensuite exigé une rançon pour le débloquer.\\r\\n\\r\\nAfin d’anticiper ce scénario, huit grandes enseignes américaines se sont associées pour protéger leurs activités d’un éventuel piratage de grande envergure. Elles travaillent ainsi sur un dispositif de protection unique permettant de prendre momentanément le relais de l’établissement paralysé par une cyberattaque. De cette manière, les clients n’envisageront pas de changer de banque suite à la suspension des services.\\r\\n\\r\\nOffre du moment\\r\\n\\r\\nBoursoBank\\r\\n\\r\\nBoursoBank\\r\\n\\r\\n100 €\\r\\n\\r\\nBoursoBank\\r\\n\\r\\nJe découvre l’offre\\r\\n\\r\\nOfferts\\r\\n\\r\\nHello Bank\\r\\n\\r\\nHello Bank\\r\\n\\r\\n180 €\\r\\n\\r\\nHello Bank\\r\\n\\r\\nJe découvre l’offre\\r\\n\\r\\nOfferts\\r\\n\\r\\nOffre du moment\\r\\n\\r\\nFortuneo\\r\\n\\r\\nFortuneo\\r\\n\\r\\n80 €\\r\\n\\r\\nFortuneo\\r\\n\\r\\nJe découvre l’offre\\r\\n\\r\\nOfferts\\r\\n\\r\\nOffre du moment\\r\\n\\r\\nMonabanq\\r\\n\\r\\nMonabanq\\r\\n\\r\\njusqu'à 240 €\\r\\n\\r\\nMonabanq\\r\\n\\r\\nJe découvre l’offre\\r\\n\\r\\nOffre du moment\\r\\n\\r\\nNotre sélection des promos\\r\\n\\r\\nJe compare les offres bancaires\\r\\n\\r\\n## Une question d’image\\r\\n\\r\\nActuellement, les cyberattaques contre les banques sont protéiformes. Outre les ransomwares, les établissements financiers doivent faire face à la multiplication du jackpotting . Ce type de piratage consiste à s’attaquer aux DAB (distributeurs automatiques de billets) pour les détourner de leur usage initial.\\r\\n\\r\\nLes pirates étudient le fonctionnement de ces appareils en effectuant de la rétro-ingénierie sur un modèle acheté sur un site spécialisé ou au marché noir. Ils exploitent ensuite leurs failles de pour en faire ce qu’ils veulent.\\r\\n\\r\\nBien que les pertes soient relativement faibles, ce type de cyberattaque nuit foncièrement à l’image des banques. Ces incidents démontrent en effet l’impuissance des institutions financières dans l’univers numérique. Pourtant, elles s’évertuent à poursuivre leur processus de digitalisation.\\r\\n\\r\\nLes experts en cybersécurité émettent des recommandations en matière d’ hygiène informatique pour éviter ces problèmes. Les banques doivent par exemple mettre régulièrement à jour leur antivirus et renforcer les systèmes d’authentification concernant le droit d’accès des clients.\\r\\n\\r\\nDe leur côté, les acteurs du secteur bancaire s’efforcent de se détacher des antivirus. Ils cherchent notamment à développer des systèmes visant à repérer les anomalies. Tel est le cas de la récupération de données sur un poste de travail au sein d’un réseau bancaire ou de l’exploitation d’informations sans autorisation.\\r\\n\\r\\nToutefois, les démarches préventives en matière de cybersécurité tendent à augmenter le budget dédié à ce secteur et le coût d’exploitation des banques. Société Générale, par exemple, y consacre aujourd’hui des centaines de millions d’euros et a multiplié ses effectifs par trois au cours de ces trois dernières années.\\r\\n\\r\\nJe compare les offres bancaires\\r\\n\\r\\n## Un phénomène très répandu\\r\\n\\r\\nTravelex n’est pas le seul établissement à avoir rencontré des problèmes suite à des attaques informatiques. Le fournisseur de cartes de crédit américain Capital One a aussi subi un piratage l’été dernier. Les hackers ont eu accès aux données personnelles de plus de 100 millions d’utilisateurs, soit près d’un tiers de la population du pays (327 millions d’habitants).\\r\\n\\r\\nCet évènement a eu lieu à peine quelques jours après le vol des données personnelles de 4,2 millions d’usagers au sein de la banque Desjardins au Canada. L’enseigne maltaise Bank of Valletta a aussi subi une cyberattaque début 2019. Cette fois-ci, les pirates ont voulu dérober 13 millions d'euros.\\r\\n\\r\\nLa banque italienne UniCredit , quant à elle, a vu pirater les données de 400 000 clients en 2017. Cela s’est produit une année après l’attaque concernant le compte de 40 000 usagers chez Tesco bank. Près de 20 000 clients de cette enseigne britannique ont constaté des retraits illicites sur leur compte. En somme, les banques subissent de plus en plus de cyberattaques. D’autant que les hackers sont de plus en plus doués.\\r\\n\\r\\nSelon le directeur général de YesWeHack (start-up spécialisée en hacking éthique), Guillaume Vassault-Houlière :\\r\\n\\r\\nDès lors que vous avez une activité BtoC, c'est-à-dire qui vise des particuliers, vous êtes plus exposé aux cyberattaques, car les données personnelles ont une valeur et peuvent être revendues.\\r\\n\\r\\nGuillaume Vassault-Houlière.\\r\\n\\r\\nDans ce contexte, les white hackers sont très sollicités. Ces entreprises technologiques sont officiellement commanditées et payées pour simuler des cyberattaques afin de détecter les failles de sécurité dans un système informatique. Elles sont désormais incontournables dans le secteur bancaire.\\r\\n\\r\\n\\r\\n\", 'Words': 780, 'AvgWordsLength': 5, 'Chars': 5375, 'LetterChars': 4258, 'NumberChars': 49, 'OtherChars': 136, 'Website': 'banque.meilleurtaux.com', 'PDF': False, 'Text_e5_embeddings': [-0.004125738516449928, 0.052799925208091736, -0.005087921395897865, -0.0037737833335995674, 0.028302252292633057, -0.015996426343917847, -0.03714762255549431, -0.029330981895327568, 0.016668792814016342, 0.034771665930747986, -0.02304643578827381, -0.022055406123399734, 0.09054294973611832, 0.01396885048598051, -0.04197077825665474, -0.04331587255001068, 0.019524618983268738, -0.046622395515441895, 0.01751800999045372, 0.0008871607133187354, 0.03083798661828041, -0.01707722805440426, 0.05824931338429451, -0.04043231159448624, 0.04148544743657112, -0.013450578786432743, -0.0018609119579195976, 0.03836340084671974, -0.02304152026772499, 0.040782567113637924, 0.0317576564848423, -0.030175451189279556, -0.02995487116277218, 0.050354838371276855, 0.037023141980171204, 0.010040245950222015, -0.004701793659478426, -0.03178611025214195, 0.01853093132376671, 0.03684496879577637, 0.04350774362683296, 0.04442795366048813, 0.03184879943728447, -0.054099902510643005, 0.014245082624256611, -0.011768095195293427, 0.027170950546860695, 0.007879257202148438, -0.03463435173034668, 0.010933599434792995, 0.02139032445847988, 0.03208475559949875, 0.049029503017663956, 0.020551972091197968, -0.04457463324069977, -0.028314489871263504, 0.022501487284898758, 0.01814953424036503, -0.03182266280055046, 0.0242055244743824, -0.015266749076545238, 0.027578113600611687, 0.011312909424304962, 0.03830978274345398, 0.030648326501250267, -0.008077877573668957, 0.006959210615605116, 0.006798553746193647, -0.046457987278699875, -0.03344039246439934, 0.009354660287499428, -0.023917673155665398, 0.07241213321685791, -0.05667330324649811, 0.012301481328904629, -0.020276034250855446, -0.054128795862197876, -0.004290479701012373, 0.018986240029335022, 0.0076298960484564304, 0.05596494302153587, 0.00024804947315715253, 0.028321417048573494, 0.02733875997364521, 0.007436877116560936, 0.0017666886560618877, -0.033237338066101074, 0.022512711584568024, 0.03760552406311035, 0.0573975071310997, 0.04332464188337326, -0.06243094429373741, -0.07820035517215729, 0.0269607063382864, 0.023824719712138176, 0.008596660569310188, 0.0246119424700737, -0.013292466290295124, 0.061037179082632065, -0.05026281625032425, -0.03024391084909439, -0.04958132654428482, -0.05013424903154373, -0.03304915130138397, -0.09276832640171051, -0.0063573750667274, 0.002803198294714093, -0.015705352649092674, 0.04428776353597641, -0.0742022693157196, -0.010881246998906136, -0.0013333914102986455, 0.0643802359700203, -0.019422031939029694, 0.04081067442893982, 0.00691958935931325, 0.06717659533023834, -0.023497868329286575, 0.00970116164535284, -0.041089121252298355, 0.00018724077381193638, 0.03180642053484917, 0.021739177405834198, -0.020464539527893066, 0.03015872649848461, 0.012818785384297371, 0.02296868897974491, 0.002681286307051778, 0.02054157294332981, -0.06318259984254837, -0.05296844244003296, -0.03129856288433075, -0.00032290120725519955, 0.031324177980422974, -0.046070557087659836, 0.052070654928684235, 0.044560063630342484, 0.022265497595071793, -0.010595710016787052, -0.0076601216569542885, 0.03914617747068405, -0.06517999619245529, 0.009003976359963417, 0.037763383239507675, 0.04426691681146622, -0.04967082664370537, 0.03488786518573761, -0.0023707314394414425, -0.025164417922496796, 0.007108941208571196, 0.018469765782356262, -0.025784898549318314, -0.020430605858564377, -0.016951890662312508, 0.013305514119565487, 0.00019533354497980326, 0.007345386315137148, -0.01385069265961647, -0.02852608822286129, 0.03613980486989021, 0.02701202593743801, 0.006803820375353098, 0.03578433021903038, 0.0031786030158400536, 0.05497261881828308, -0.0012973906705155969, -0.03850801661610603, 0.033493608236312866, -0.01736755296587944, -0.07046686857938766, -0.05403686687350273, -0.01568000204861164, -0.029526911675930023, 0.014160181395709515, -0.017206666991114616, -0.04248189553618431, -0.03234652802348137, -0.009299954399466515, -0.010609281249344349, -0.03935691714286804, -0.044622257351875305, 0.005447396542876959, -0.03771286457777023, 0.017767149955034256, -0.035144198685884476, -0.03216921165585518, -0.04316001012921333, -0.036992549896240234, 0.016038203611969948, 0.0007581572281196713, -0.03716326132416725, 0.042677853256464005, 0.04566049203276634, -5.764169691246934e-05, 0.04473340883851051, 0.07298982888460159, 0.05190373957157135, 0.036170922219753265, -0.03619106113910675, -0.04360021650791168, 0.024645091965794563, -8.833556057652459e-05, 0.01749955676496029, 0.06589918583631516, 0.003319535404443741, -0.06444893032312393, -0.003730597672984004, 0.04214875027537346, 0.04345645755529404, 0.029554884880781174, -0.004199139308184385, 0.020024804398417473, -0.04448840767145157, 0.01888960413634777, -0.033957596868276596, -0.047766074538230896, 0.02224310114979744, 0.00287211243994534, -0.02852497808635235, 0.023138755932450294, 0.023081496357917786, -0.043730780482292175, 0.04775260016322136, 0.0416734516620636, -0.0204816535115242, -0.0038233872037380934, 0.0026284276973456144, -0.019669413566589355, 0.03813127055764198, 0.023951388895511627, 0.05076836794614792, 0.03729300573468208, -0.03147077187895775, 0.09346741437911987, 0.022042548283934593, 0.007527607958763838, 0.013238240033388138, 0.018599536269903183, -0.02439536713063717, -0.09934971481561661, 0.00038976085488684475, 0.023135682567954063, -0.014683248475193977, -0.042394693940877914, -0.01612926833331585, -0.04001915454864502, -0.05577804893255234, 0.06073528900742531, -0.036210447549819946, 0.005706870928406715, 0.02511626109480858, -0.03735749423503876, 0.01732243038713932, -0.02994532138109207, 0.021044183522462845, 0.03996942192316055, -0.07260077446699142, -0.003790860064327717, 0.02422136813402176, 0.01763824373483658, 0.030176790431141853, -0.04294665902853012, -0.002991731045767665, -0.021065589040517807, -0.001003108685836196, -0.0013614860363304615, 0.0711933895945549, -0.020256511867046356, -0.030732285231351852, 0.0003993701539002359, -0.029878413304686546, -0.006858566775918007, -0.06644973903894424, 0.022493304684758186, 0.030522001907229424, -0.00669897673651576, -0.03639552742242813, 0.0237265657633543, -0.05745626613497734, -0.05254894867539406, -0.03464609757065773, 0.04674195125699043, -0.058115404099226, -0.03645890951156616, -0.02475786581635475, 0.030376499518752098, -0.06819037348031998, 0.01002578902989626, -0.09901266545057297, -0.009885337203741074, 0.04081396386027336, 0.061137229204177856, -0.011152742430567741, 0.015374809503555298, 0.09466422349214554, 0.016260482370853424, 0.01881936937570572, -0.015438860282301903, 0.0006528745871037245, -0.010997870936989784, -0.026573114097118378, -0.04482477903366089, 0.03733973950147629, -0.04242299124598503, -0.01920631155371666, 0.04447663202881813, 0.06526459008455276, 0.00809468049556017, -0.04889126494526863, 0.0548531599342823, -0.040250055491924286, 0.016282645985484123, -0.07659725099802017, 0.04355869069695473, 0.04914768785238266, -0.04788849875330925, 7.913843001006171e-05, 0.05811683461070061, -0.007543399930000305, 0.026660067960619926, -0.01351650059223175, 0.00044786432408727705, -0.017642082646489143, -0.04148491472005844, 0.01597125455737114, -0.057059723883867264, 0.04379284381866455, -0.006355058401823044, 0.03821885213255882, 0.030845211818814278, -0.0368330292403698, -0.004034117329865694, -0.04146667942404747, 0.027249377220869064, -0.09593617916107178, 0.02602269873023033, -0.08165067434310913, -0.04826661944389343, 0.0713566243648529, 0.03227315470576286, -0.03073509968817234, 0.024546029046177864, -0.01211515162140131, -0.025128556415438652, 0.05684630572795868, -0.0337102934718132, -0.02875952050089836, -0.031147180125117302, -0.022409671917557716, -0.0027325262781232595, 0.01671760529279709, -0.06551449000835419, 0.022235384210944176, 0.0028853323310613632, -0.02344406768679619, 0.027678214013576508, -0.010283753275871277, -0.023852944374084473, -0.029935011640191078, -0.007409980520606041, -0.027347300201654434, 0.055852387100458145, -0.014667457900941372, 0.007145185023546219, -0.028462117537856102, 0.017623715102672577, -0.043297503143548965, -0.03319935128092766, 0.024013701826334, 0.009711435064673424, 0.09195603430271149, 0.01316817756742239, -0.03712339326739311, 0.00652801850810647, 0.04394783079624176, -0.009103711694478989, 0.07693421840667725, -0.03728241100907326, -0.036612506955862045, 0.06281452625989914, 0.021622080355882645, 0.04757705703377724, -0.011499015614390373, 0.026834610849618912, -0.051813755184412, 0.06825681775808334, 0.025271106511354446, -0.03379122167825699, 0.039778634905815125, -0.03281019255518913, 0.030888734385371208, -0.007114924490451813, -0.0332091823220253, 0.010099238716065884, 0.042176056653261185, 0.0028638383373618126, 0.03224765881896019, -0.04734206572175026, 0.007288982160389423, -0.0421617291867733, 0.03613709285855293, -0.000992881366983056, -0.022461652755737305, 0.05475684627890587, 0.03514552116394043, 0.0022920172195881605, 0.03150108456611633, 0.05843281000852585, -0.006464590784162283, -0.0758441761136055, 0.023868372663855553, -0.02282830886542797, 0.008000489324331284, 0.020025134086608887, 0.0016176658682525158, -0.010252195410430431, 0.001220570644363761, 0.04033764824271202, -0.014924971386790276, 0.04098896309733391, -0.047514867037534714, 0.03120553307235241, 0.018053054809570312, -0.022937675938010216, 0.018179243430495262, -0.0677308589220047, -0.003150759031996131, 0.0048280395567417145, 0.02251225896179676, -0.017873728647828102, -0.008214901201426983, -0.010113192722201347, -0.015560148283839226, 0.0011726523516699672, 0.0011017024517059326, 0.016179660335183144, 0.0252061914652586, 0.02547972835600376, -0.03040494956076145, 0.02530280500650406, 0.024554390460252762, -0.009776907041668892, 0.03453369438648224, 0.004147632513195276, -0.04515322297811508, -0.003012153087183833, -0.05862865969538689, 0.031080003827810287, -0.022502155974507332, 0.02556418627500534, 0.020866844803094864, 0.03025103360414505, 0.02314906008541584, -0.017622116953134537, 0.02844931371510029, -0.04355978965759277, 0.02992424927651882, 0.0109980758279562, 0.021472835913300514, -0.09483753889799118, 0.028610335662961006, 0.013455747626721859, -0.01091096829622984, -0.002290438860654831, -0.005865796003490686, -0.029927939176559448, 0.02775508724153042, -0.00056908541591838, 0.04248350113630295, -0.06784949451684952, -0.00018667985568754375, -0.00832618959248066, 0.0348394401371479, 0.008433294482529163, 0.034615129232406616, 0.05789554864168167, 0.005664119031280279, 0.052489448338747025, 0.02391180209815502, -0.016532940790057182, 0.015048651956021786, -0.006456727162003517, -0.024786755442619324, 0.034554898738861084, 0.02075093984603882, 0.0009807961760088801, -0.07601477205753326, 0.0644899383187294, 0.05962175875902176, -0.02689405530691147, -0.03937731683254242, 0.017068276181817055, 0.004893966019153595, -0.02995367906987667, -0.005550507456064224, 0.03443741425871849, -0.020432276651263237, -0.08794093132019043, 0.06543774902820587, 0.011440999805927277, -0.03031259775161743, -0.03527821600437164, -0.05504462122917175, 0.053674280643463135, -0.044080063700675964, 0.024201612919569016, 0.01520184613764286, 0.012106197886168957, 0.056542135775089264, 0.005991669837385416, 0.09383217245340347, -0.02979951910674572, -0.0019963241647928953, -0.01121876947581768, 0.03557722643017769, 0.0020818605553358793, -0.01442661788314581, 0.00740943755954504, 0.022544562816619873, -0.05304212123155594, -0.035392265766859055, 0.004865722265094519, -0.03660944476723671, -0.039198581129312515, 0.012140045873820782, -0.09377826750278473, 0.020345594733953476, -0.04734979569911957, 0.03352127596735954, -0.02157255820930004, 0.020762966945767403, -0.03899162635207176, 0.062051910907030106, -0.07257862389087677, -0.05139090120792389, 0.0370694138109684, 0.007715103216469288, -0.021716443821787834, 0.042889390140771866, -0.007739713415503502, -0.03160223364830017, -0.026067491620779037, -0.004564320668578148, -0.023110520094633102, 0.017302772030234337, -0.05635445937514305, -0.0017279192106798291, -0.013120061717927456, 0.026750091463327408, -0.016840871423482895, 0.05423123762011528, -0.002599692903459072, -0.014072054997086525, 0.01782345026731491, 0.0008663723710924387, 0.028620483353734016, 0.021142292767763138, 0.02623216062784195, 0.042014867067337036, -0.027157656848430634, 0.012177089229226112, -0.043139971792697906, 0.012291813269257545, 0.023679694160819054, -0.0015785921132192016, -0.0033968219067901373, 0.015060486271977425, -0.02665022760629654, -0.019371267408132553, 0.04571299999952316, -0.07143539190292358, 0.054651323705911636, 0.0263277068734169, 0.008455408737063408, 0.014058727771043777, 0.04485484957695007, -0.03883916512131691, -0.026818199083209038, 0.051357246935367584, -0.024137666448950768, -0.022996705025434494, -0.022313067689538002, -0.024908430874347687, 0.0039613088592886925, 0.061495065689086914, 0.013638702221214771, 0.02657528780400753, -0.02323933131992817, -0.21407051384449005, -0.00044733553659170866, -0.03422166407108307, -0.007491130847483873, 0.036139700561761856, 0.014372160658240318, 0.026507975533604622, 0.0029908879660069942, 0.03003745898604393, 0.0013645648723468184, 0.05024179443717003, -0.04764833301305771, 0.007673018611967564, -0.03721681237220764, -0.03935578092932701, -0.0024473911616951227, -0.007290615700185299, -0.05637887120246887, 0.00839980784803629, 0.005282987374812365, -0.016281703487038612, 0.050302356481552124, -0.03956905007362366, 0.010644330643117428, 0.0022109716664999723, -0.01152209471911192, -0.04428955540060997, 0.027794253081083298, 0.00593393761664629, 0.02490459382534027, -6.793269130866975e-05, -0.0022120687644928694, -2.1457604816532694e-05, 0.018745090812444687, -0.013560828752815723, -0.02915852516889572, -0.0003414980601519346, 0.010818613693118095, -0.0907197892665863, 0.0472375713288784, 0.026492193341255188, 0.0016760677099227905, -0.04764818772673607, 0.01590362936258316, -0.01775454916059971, 0.055174268782138824, 0.05076879635453224, 0.01877765730023384, 0.010465260595083237, -0.031460367143154144, 0.026567967608571053, 0.022445503622293472, -0.08158332854509354, 0.012405652552843094, 0.010762711986899376, 0.04833889380097389, 0.0588943213224411, 0.026579998433589935, 0.02594783343374729, -0.007129158359020948, 0.05389690026640892, 0.029877452179789543, -0.05216946080327034, 0.0036160433664917946, -0.01339024119079113, 0.010822700336575508, 0.06716179102659225, 0.004739412106573582, -0.03011951968073845, 0.02312459424138069, 0.03374551981687546, -0.04297107085585594, -0.021124770864844322, -0.009261753410100937, 0.0338602289557457, -0.02790028229355812, -0.006365458481013775, -0.0377344973385334, -0.05805971845984459, 0.01592940464615822, -0.04100913554430008, -0.040288347750902176, 0.0034218986984342337, 0.02328554354608059, -0.01571032404899597, -0.027518007904291153, -0.014712312258780003, -0.004379367455840111, 0.017573729157447815, 0.06509513407945633, 0.009546909481287003, -0.03422899171710014, 0.01643945276737213, -0.005541112273931503, 0.019336624071002007, -0.03573956340551376, -0.026652837172150612, 0.057633690536022186, 0.019588235765695572, -0.010759882628917694, -0.003146431175991893, 0.003788457252085209, -0.04164247214794159, 0.035790394991636276, 0.03770679607987404, -0.05559611693024635, -0.04488547518849373, 0.04360348358750343, -0.011637243442237377, -0.035134635865688324, 0.028055207803845406, 0.06429721415042877, 0.06059931963682175, -0.04355704411864281, 0.01206795871257782, -0.0164168868213892, 0.03133976459503174, -0.016833046451210976, -0.05125684291124344, -0.06336405873298645, -0.03995782136917114, -0.01585494726896286, 0.0482410304248333, 0.009308689273893833, 0.008267953060567379, -0.033630210906267166, -0.039584480226039886, 0.010770360939204693, -0.028853224590420723, -0.007633221335709095, -0.04107866436243057, -0.055370673537254333, 0.022609995678067207, -0.011715376749634743, -0.0030148657970130444, 0.00966445542871952, 0.01956905797123909, 0.011797575280070305, 0.03743590787053108, 0.021945560351014137, 0.06499559432268143, -0.04801178351044655, -0.021771740168333054, 0.03736365586519241, -0.05418664962053299, -0.006423573475331068, 0.01130286231637001, -0.009217603132128716, 0.019941752776503563, -0.014777987264096737, -0.015072721987962723, -0.10496288537979126, -0.009849184192717075, -0.009301090613007545, -0.024059738963842392, 0.028072401881217957, 0.02990454062819481, 0.04299801215529442, -0.022248119115829468, 0.013482044450938702, -0.001538264099508524, -0.04709165543317795, 0.05298429727554321, 0.009463155642151833, 0.01461552083492279, 0.005833548028022051, -0.011023236438632011, -0.0495406799018383, 0.022273892536759377, 0.020157495513558388, -0.04642893373966217, 0.00888157170265913, 0.010884840972721577, 0.03579328954219818, 0.04011231288313866, -0.015362519770860672, 0.04041285440325737, -0.034518055617809296, -0.037399549037218094, 0.003966163378208876]}"
   ]
  },
  {
   "cell_type": "code",
   "execution_count": 57,
   "id": "592fcd95-18a3-4e21-bad3-ec58c3e25430",
   "metadata": {
    "execution": {
     "iopub.execute_input": "2024-08-02T22:35:17.572431Z",
     "iopub.status.busy": "2024-08-02T22:35:17.571640Z",
     "iopub.status.idle": "2024-08-02T22:35:17.581843Z",
     "shell.execute_reply": "2024-08-02T22:35:17.581154Z",
     "shell.execute_reply.started": "2024-08-02T22:35:17.572384Z"
    }
   },
   "outputs": [],
   "source": [
    "from argilla.records._mapping import IngestedRecordMapper\n",
    "\n",
    "record_mapper = IngestedRecordMapper(mapping=hfmapping, dataset=dataset, user_id=None)"
   ]
  },
  {
   "cell_type": "code",
   "execution_count": null,
   "id": "5104f3f9-c1ea-4ca4-830e-d3ec7bca3a22",
   "metadata": {},
   "outputs": [],
   "source": [
    "record_mapper(data=record_dict)"
   ]
  },
  {
   "cell_type": "code",
   "execution_count": null,
   "id": "e2ae2529-331e-47c2-afc8-7e71ee2a1951",
   "metadata": {},
   "outputs": [],
   "source": [
    "record_mapper._map_suggestions(data=record_dict, mapping=record_mapper.mapping.suggestion)"
   ]
  },
  {
   "cell_type": "code",
   "execution_count": null,
   "id": "5023697a-9f27-4b87-859c-ec439b21cb33",
   "metadata": {},
   "outputs": [],
   "source": [
    "record_mapper._map_responses(data=record_dict, user_id=record_mapper.user_id, mapping=record_mapper.mapping.response)"
   ]
  },
  {
   "cell_type": "code",
   "execution_count": null,
   "id": "1f31d884-3494-4dea-863b-2a4c8b93d60f",
   "metadata": {},
   "outputs": [],
   "source": [
    "record_mapper._map_attributes(data=record_dict, mapping=record_mapper.mapping.field)"
   ]
  },
  {
   "cell_type": "code",
   "execution_count": null,
   "id": "adad85ef-785a-4744-b7ea-12d9a86a7536",
   "metadata": {},
   "outputs": [],
   "source": [
    "record_mapper._map_attributes(data=record_dict, mapping=record_mapper.mapping.metadata)"
   ]
  },
  {
   "cell_type": "code",
   "execution_count": null,
   "id": "2b22fc59-2e46-4a52-9c68-5ca01d65f543",
   "metadata": {},
   "outputs": [],
   "source": [
    "record_mapper._map_attributes(data=record_dict, mapping=record_mapper.mapping.vector)"
   ]
  },
  {
   "cell_type": "code",
   "execution_count": null,
   "id": "a300bf77-d956-4dde-b68e-999f431c825a",
   "metadata": {},
   "outputs": [],
   "source": [
    "for name, route in record_mapper.mapping.field.items():\n",
    "    print(name,route.source)\n",
    "    if route.source not in data:\n",
    "        continue\n",
    "    value = data.get(route.source)\n",
    "    if value is None:\n",
    "        continue\n",
    "    attributes[name] = value"
   ]
  },
  {
   "cell_type": "markdown",
   "id": "e7fbe590-63bf-4525-aee4-a3567a8feb0f",
   "metadata": {
    "execution": {
     "iopub.execute_input": "2024-08-03T08:09:48.543738Z",
     "iopub.status.busy": "2024-08-03T08:09:48.542526Z",
     "iopub.status.idle": "2024-08-03T08:09:48.551794Z",
     "shell.execute_reply": "2024-08-03T08:09:48.550961Z",
     "shell.execute_reply.started": "2024-08-03T08:09:48.543681Z"
    }
   },
   "source": [
    "### Adjust dataset settings"
   ]
  },
  {
   "cell_type": "code",
   "execution_count": 73,
   "id": "f7bca839-1acb-439d-bf35-020acdb6201b",
   "metadata": {
    "execution": {
     "iopub.execute_input": "2024-08-03T08:17:44.938183Z",
     "iopub.status.busy": "2024-08-03T08:17:44.937230Z",
     "iopub.status.idle": "2024-08-03T08:17:44.943693Z",
     "shell.execute_reply": "2024-08-03T08:17:44.942921Z",
     "shell.execute_reply.started": "2024-08-03T08:17:44.938165Z"
    }
   },
   "outputs": [
    {
     "data": {
      "text/plain": [
       "MultiLabelQuestion(name=contenttype, title=Does the web page include any of these content types?, description=None, type=multi_label_selection, required=True) "
      ]
     },
     "execution_count": 73,
     "metadata": {},
     "output_type": "execute_result"
    }
   ],
   "source": [
    "dataset.settings.questions[0]"
   ]
  },
  {
   "cell_type": "code",
   "execution_count": 76,
   "id": "9bf4277f-9fcc-41b6-98c2-37b7d9cec628",
   "metadata": {
    "execution": {
     "iopub.execute_input": "2024-08-03T08:24:43.905755Z",
     "iopub.status.busy": "2024-08-03T08:24:43.904364Z",
     "iopub.status.idle": "2024-08-03T08:24:43.912232Z",
     "shell.execute_reply": "2024-08-03T08:24:43.911480Z",
     "shell.execute_reply.started": "2024-08-03T08:24:43.905725Z"
    }
   },
   "outputs": [
    {
     "data": {
      "text/plain": [
       "LabelQuestion(name=domain, title=What is the business domain of the web page?, description=None, type=label_selection, required=True) "
      ]
     },
     "execution_count": 76,
     "metadata": {},
     "output_type": "execute_result"
    }
   ],
   "source": [
    "from argilla.settings import LabelQuestion\n",
    "\n",
    "question2 = LabelQuestion(name=\"domain\", title=\"What is the business domain of the web page?\", labels=[\"Bank\", \"Insurance\", \"Other\"], required=True)\n",
    "\n",
    "dataset.settings.questions.add(question2)"
   ]
  },
  {
   "cell_type": "code",
   "execution_count": null,
   "id": "c00b381c-2793-411b-86d0-3ab4b77b10b5",
   "metadata": {},
   "outputs": [],
   "source": [
    "dataset.settings.questions._create_question(question2)"
   ]
  },
  {
   "cell_type": "markdown",
   "id": "f23e29c6-11ef-441c-8edf-9eaee3177e15",
   "metadata": {},
   "source": [
    "**UnprocessableEntityError: Argilla SDK error: UnprocessableEntityError: Unprocessable entity. The server cannot process the request. Details: {\"detail\":\"questions cannot be created for a published dataset\"}**\n",
    "\n",
    "=> see below, it is not possible to create or update questions after publishing an Argilla dataset\n",
    "\n",
    "=> the right approach is to create several versions of a dataset, evolving the annotation schema after each iteration"
   ]
  },
  {
   "cell_type": "markdown",
   "id": "6527d7a1-e83b-4578-87f2-bc77d3d4c707",
   "metadata": {},
   "source": [
    "https://github.com/argilla-io/argilla/blob/b7ac946af610a663b48e01007bc6b31955fc0b2a/argilla-server/src/argilla_server/validators/questions.py#L38\n",
    "\n",
    "```python\n",
    "class QuestionCreateValidator:\n",
    "\n",
    "    @staticmethod\n",
    "    def _validate_dataset_is_not_ready(dataset):\n",
    "        if dataset.is_ready:\n",
    "            raise UnprocessableEntityError(\"questions cannot be created for a published dataset\")\n",
    "```\n",
    "\n",
    "https://github.com/argilla-io/argilla/blob/develop/argilla/src/argilla/settings/_resource.py\n",
    "\n",
    "```python\n",
    "class QuestionsProperties(SettingsProperties[QuestionType]):\n",
    "    \"\"\"\n",
    "    This class is used to align questions with the rest of the settings.\n",
    "\n",
    "    Since questions are not aligned with the Resource class definition, we use this\n",
    "    class to work with questions as we do with fields, vectors, or metadata (specially when creating questions).\n",
    "\n",
    "    Once issue https://github.com/argilla-io/argilla/issues/4931 is tackled, this class should be removed.\n",
    "    \"\"\"\n",
    "```\n",
    "\n",
    "https://github.com/argilla-io/argilla/issues/4931\n",
    "\n",
    "[REFACTOR] Improve handling of question models and dicts\n",
    "\n",
    "burtenshaw modified the milestones: v2.0.0, v2.1.0 on Jun 5\n",
    "\n",
    "https://github.com/argilla-io/argilla/milestone/48\n",
    "\n",
    "No due date 7% complete"
   ]
  },
  {
   "cell_type": "markdown",
   "id": "5fae3e26-8afd-4a6c-98b0-bdc9e76f4ee9",
   "metadata": {},
   "source": [
    "### Restart with a smaller sample"
   ]
  },
  {
   "cell_type": "markdown",
   "id": "95b8a9e7-7a46-4c72-954a-2f865a9f8d15",
   "metadata": {},
   "source": [
    "Try to find an intelligent way to sample the huggingface dataset"
   ]
  },
  {
   "cell_type": "code",
   "execution_count": 84,
   "id": "a3818702-d71a-42df-b811-2ad48f68a04f",
   "metadata": {
    "execution": {
     "iopub.execute_input": "2024-08-04T14:46:53.044331Z",
     "iopub.status.busy": "2024-08-04T14:46:53.043440Z",
     "iopub.status.idle": "2024-08-04T14:46:53.050091Z",
     "shell.execute_reply": "2024-08-04T14:46:53.049148Z",
     "shell.execute_reply.started": "2024-08-04T14:46:53.044263Z"
    }
   },
   "outputs": [],
   "source": [
    "sampled_hf_dataset = hf_dataset[\"train\"]"
   ]
  },
  {
   "cell_type": "markdown",
   "id": "a8bc14fe-56d0-4e19-a177-330863b884d6",
   "metadata": {},
   "source": [
    "First shuffle the dataset"
   ]
  },
  {
   "cell_type": "code",
   "execution_count": 85,
   "id": "af373941-04e5-47df-972a-270fb986cbf1",
   "metadata": {
    "execution": {
     "iopub.execute_input": "2024-08-04T14:47:11.417498Z",
     "iopub.status.busy": "2024-08-04T14:47:11.417164Z",
     "iopub.status.idle": "2024-08-04T14:47:11.578611Z",
     "shell.execute_reply": "2024-08-04T14:47:11.576647Z",
     "shell.execute_reply.started": "2024-08-04T14:47:11.417472Z"
    }
   },
   "outputs": [],
   "source": [
    "sampled_hf_dataset = sampled_hf_dataset.shuffle(seed=42)"
   ]
  },
  {
   "cell_type": "markdown",
   "id": "3f4d0351-f031-42c0-9781-d3305cbeea70",
   "metadata": {
    "execution": {
     "iopub.execute_input": "2024-08-04T15:15:54.925375Z",
     "iopub.status.busy": "2024-08-04T15:15:54.924381Z",
     "iopub.status.idle": "2024-08-04T15:15:54.932122Z",
     "shell.execute_reply": "2024-08-04T15:15:54.931196Z",
     "shell.execute_reply.started": "2024-08-04T15:15:54.925332Z"
    }
   },
   "source": [
    "Then count the number of source websites"
   ]
  },
  {
   "cell_type": "code",
   "execution_count": 91,
   "id": "4e26ffe4-7680-41e0-ac84-9e4bd2be0b60",
   "metadata": {
    "execution": {
     "iopub.execute_input": "2024-08-04T15:00:35.016753Z",
     "iopub.status.busy": "2024-08-04T15:00:35.014056Z",
     "iopub.status.idle": "2024-08-04T15:00:35.024051Z",
     "shell.execute_reply": "2024-08-04T15:00:35.023306Z",
     "shell.execute_reply.started": "2024-08-04T15:00:35.016696Z"
    }
   },
   "outputs": [
    {
     "data": {
      "text/plain": [
       "42"
      ]
     },
     "execution_count": 91,
     "metadata": {},
     "output_type": "execute_result"
    }
   ],
   "source": [
    "websites = sampled_hf_dataset.unique(\"Website\")\n",
    "len(websites)"
   ]
  },
  {
   "cell_type": "markdown",
   "id": "74cc4de2-023b-4ae6-bc08-02aea5263d9b",
   "metadata": {},
   "source": [
    "For a first annotation round, we want around 500 samples => take 15 examples by website"
   ]
  },
  {
   "cell_type": "code",
   "execution_count": 95,
   "id": "50571f9b-b81e-4ec4-a185-b638ee15f858",
   "metadata": {
    "execution": {
     "iopub.execute_input": "2024-08-04T15:14:24.547149Z",
     "iopub.status.busy": "2024-08-04T15:14:24.546749Z",
     "iopub.status.idle": "2024-08-04T15:14:42.594126Z",
     "shell.execute_reply": "2024-08-04T15:14:42.593579Z",
     "shell.execute_reply.started": "2024-08-04T15:14:24.547107Z"
    }
   },
   "outputs": [],
   "source": [
    "websites_indexes = {}\n",
    "for website in websites:\n",
    "    websites_indexes[website] = []\n",
    "\n",
    "for idx,example in enumerate(sampled_hf_dataset):\n",
    "    indexes = websites_indexes[example[\"Website\"]]\n",
    "    if len(indexes)<15:\n",
    "        indexes.append(idx)"
   ]
  },
  {
   "cell_type": "code",
   "execution_count": 102,
   "id": "a8838ad5-c678-4430-8b9f-f6e5a0f0f3c5",
   "metadata": {
    "execution": {
     "iopub.execute_input": "2024-08-04T15:19:40.982620Z",
     "iopub.status.busy": "2024-08-04T15:19:40.982279Z",
     "iopub.status.idle": "2024-08-04T15:19:40.988538Z",
     "shell.execute_reply": "2024-08-04T15:19:40.987633Z",
     "shell.execute_reply.started": "2024-08-04T15:19:40.982598Z"
    }
   },
   "outputs": [],
   "source": [
    "sampled_indexes = []\n",
    "for website,indexes in websites_indexes.items():\n",
    "    sampled_indexes.extend(indexes)\n",
    "sampled_indexes = sorted(sampled_indexes)"
   ]
  },
  {
   "cell_type": "code",
   "execution_count": 105,
   "id": "ed39e122-ca74-492d-a762-d3f48c32e296",
   "metadata": {
    "execution": {
     "iopub.execute_input": "2024-08-04T15:20:46.264493Z",
     "iopub.status.busy": "2024-08-04T15:20:46.264156Z",
     "iopub.status.idle": "2024-08-04T15:20:46.289254Z",
     "shell.execute_reply": "2024-08-04T15:20:46.288410Z",
     "shell.execute_reply.started": "2024-08-04T15:20:46.264470Z"
    }
   },
   "outputs": [],
   "source": [
    "sampled_hf_dataset = sampled_hf_dataset.select(sampled_indexes)"
   ]
  },
  {
   "cell_type": "code",
   "execution_count": 106,
   "id": "4782d18b-f01b-42f8-820e-036c734902ba",
   "metadata": {
    "execution": {
     "iopub.execute_input": "2024-08-04T15:20:56.420072Z",
     "iopub.status.busy": "2024-08-04T15:20:56.419752Z",
     "iopub.status.idle": "2024-08-04T15:20:56.427104Z",
     "shell.execute_reply": "2024-08-04T15:20:56.426136Z",
     "shell.execute_reply.started": "2024-08-04T15:20:56.420053Z"
    }
   },
   "outputs": [
    {
     "data": {
      "text/plain": [
       "630"
      ]
     },
     "execution_count": 106,
     "metadata": {},
     "output_type": "execute_result"
    }
   ],
   "source": [
    "len(sampled_hf_dataset)"
   ]
  },
  {
   "cell_type": "markdown",
   "id": "258dcd44-16b5-4b41-a34f-1f427769ae54",
   "metadata": {},
   "source": [
    "Delete the first big dataset"
   ]
  },
  {
   "cell_type": "code",
   "execution_count": 107,
   "id": "043f2b4c-1f3e-4163-9554-b0a951b10753",
   "metadata": {
    "execution": {
     "iopub.execute_input": "2024-08-04T15:21:29.079266Z",
     "iopub.status.busy": "2024-08-04T15:21:29.078739Z",
     "iopub.status.idle": "2024-08-04T15:21:59.595372Z",
     "shell.execute_reply": "2024-08-04T15:21:59.594470Z",
     "shell.execute_reply.started": "2024-08-04T15:21:29.079230Z"
    }
   },
   "outputs": [],
   "source": [
    "dataset.delete()"
   ]
  },
  {
   "cell_type": "markdown",
   "id": "db8f539c-122f-4f10-b576-f22a5e46da46",
   "metadata": {},
   "source": [
    "Re-create a smaller dataset with a more open annotation scheme"
   ]
  },
  {
   "cell_type": "code",
   "execution_count": 110,
   "id": "16d7ff79-efea-4ced-9ff6-a55e375cad08",
   "metadata": {
    "execution": {
     "iopub.execute_input": "2024-08-04T15:30:30.974037Z",
     "iopub.status.busy": "2024-08-04T15:30:30.973015Z",
     "iopub.status.idle": "2024-08-04T15:30:30.978485Z",
     "shell.execute_reply": "2024-08-04T15:30:30.977648Z",
     "shell.execute_reply.started": "2024-08-04T15:30:30.974016Z"
    }
   },
   "outputs": [],
   "source": [
    "settings.questions = [\n",
    "    rg.TextQuestion(\n",
    "        name=\"pagetype\",\n",
    "        title=\"What is the page type?\",\n",
    "        required=True,\n",
    "        use_markdown=False\n",
    "    ),\n",
    "    rg.TextQuestion(\n",
    "        name=\"pagedomain\",\n",
    "        title=\"What is the page domain?\",\n",
    "        required=True,\n",
    "        use_markdown=False\n",
    "    ),\n",
    "    rg.TextQuestion(\n",
    "        name=\"entitiestype\",\n",
    "        title=\"What are the types of the named entities? (separated by ,)\",\n",
    "        required=False,\n",
    "        use_markdown=False\n",
    "    ),\n",
    "    rg.TextQuestion(\n",
    "        name=\"webscrapingerrors\",\n",
    "        title=\"Are there text errors introduced by web scraping? (separated by ,)\",\n",
    "        required=False,\n",
    "        use_markdown=False\n",
    "    )\n",
    "]"
   ]
  },
  {
   "cell_type": "code",
   "execution_count": 111,
   "id": "a6eb949e-507e-4368-85bb-8ff24e03df67",
   "metadata": {
    "execution": {
     "iopub.execute_input": "2024-08-04T15:30:48.436397Z",
     "iopub.status.busy": "2024-08-04T15:30:48.436040Z",
     "iopub.status.idle": "2024-08-04T15:30:49.352385Z",
     "shell.execute_reply": "2024-08-04T15:30:49.351727Z",
     "shell.execute_reply.started": "2024-08-04T15:30:48.436375Z"
    }
   },
   "outputs": [
    {
     "data": {
      "text/plain": [
       "Dataset(id=UUID('9f5f5739-c475-4069-ba09-f4633faad67a') inserted_at=datetime.datetime(2024, 8, 4, 15, 30, 48, 486054) updated_at=datetime.datetime(2024, 8, 4, 15, 30, 49, 241525) name='banque-fr-2311-v1' status='ready' guidelines='Explore french banking websites dataset - date' allow_extra_metadata=False distribution=OverlapTaskDistributionModel(strategy='overlap', min_submitted=1) workspace_id=UUID('485e94ed-4e72-496c-9d92-756baea3882d') last_activity_at=datetime.datetime(2024, 8, 4, 15, 30, 49, 241525))"
      ]
     },
     "execution_count": 111,
     "metadata": {},
     "output_type": "execute_result"
    }
   ],
   "source": [
    "dataset = rg.Dataset(\n",
    "    name=\"banque-fr-2311-v1\",\n",
    "    workspace=\"argilla\",\n",
    "    settings=settings,\n",
    ")\n",
    "\n",
    "dataset.create()"
   ]
  },
  {
   "cell_type": "code",
   "execution_count": 113,
   "id": "3e9a0cda-64a2-4a3e-a7df-3eb0470700fd",
   "metadata": {
    "execution": {
     "iopub.execute_input": "2024-08-04T15:32:20.790318Z",
     "iopub.status.busy": "2024-08-04T15:32:20.789465Z",
     "iopub.status.idle": "2024-08-04T15:32:32.015217Z",
     "shell.execute_reply": "2024-08-04T15:32:32.014730Z",
     "shell.execute_reply.started": "2024-08-04T15:32:20.790288Z"
    }
   },
   "outputs": [
    {
     "name": "stderr",
     "output_type": "stream",
     "text": [
      "Sending records...: 3batch [00:10,  3.53s/batch]                                                                        \n"
     ]
    },
    {
     "data": {
      "text/plain": [
       "DatasetRecords(Dataset(id=UUID('9f5f5739-c475-4069-ba09-f4633faad67a') inserted_at=datetime.datetime(2024, 8, 4, 15, 30, 48, 486054) updated_at=datetime.datetime(2024, 8, 4, 15, 30, 49, 241525) name='banque-fr-2311-v1' status='ready' guidelines='Explore french banking websites dataset - date' allow_extra_metadata=False distribution=OverlapTaskDistributionModel(strategy='overlap', min_submitted=1) workspace_id=UUID('485e94ed-4e72-496c-9d92-756baea3882d') last_activity_at=datetime.datetime(2024, 8, 4, 15, 30, 49, 241525)))"
      ]
     },
     "execution_count": 113,
     "metadata": {},
     "output_type": "execute_result"
    }
   ],
   "source": [
    "dataset.records.log(records=sampled_hf_dataset, mapping=hfmapping)"
   ]
  },
  {
   "cell_type": "markdown",
   "id": "0434c0ad-ccca-4d85-a982-70b81e5eb2ce",
   "metadata": {},
   "source": [
    "Now do a first manual round of annotation"
   ]
  },
  {
   "cell_type": "code",
   "execution_count": null,
   "id": "7f06303d-a8f6-4c81-bdc0-8ec96b3c4aab",
   "metadata": {},
   "outputs": [],
   "source": []
  }
 ],
 "metadata": {
  "kernelspec": {
   "display_name": "instructlab-local",
   "language": "python",
   "name": "instructlab-local"
  },
  "language_info": {
   "codemirror_mode": {
    "name": "ipython",
    "version": 3
   },
   "file_extension": ".py",
   "mimetype": "text/x-python",
   "name": "python",
   "nbconvert_exporter": "python",
   "pygments_lexer": "ipython3",
   "version": "3.11.9"
  }
 },
 "nbformat": 4,
 "nbformat_minor": 5
}
