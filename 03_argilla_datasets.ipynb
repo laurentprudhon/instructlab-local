{
 "cells": [
  {
   "cell_type": "markdown",
   "id": "3e89c150-6d40-466e-b0ae-26f6070432fa",
   "metadata": {},
   "source": [
    "# Prepare datasets with Argilla"
   ]
  },
  {
   "cell_type": "markdown",
   "id": "df0bc5b6-29ec-4d0f-b858-1559d0594d77",
   "metadata": {},
   "source": [
    "## 1. Deploy Argilla server locally\n",
    "\n",
    "```bash\n",
    "cd /workspace\n",
    "mkdir argilla && cd argilla\n",
    "wget -O docker-compose.yaml https://raw.githubusercontent.com/argilla-io/argilla/main/examples/deployments/docker/docker-compose.yaml\n",
    "\n",
    "service docker start\n",
    "docker compose up -d\n",
    "```\n",
    "\n",
    "Connect to: http://localhost:6900/\n",
    "\n",
    "Login:\n",
    "\n",
    "> cat docker-compose.yaml\n",
    "\n",
    "- USERNAME: argilla\n",
    "- PASSWORD: 12345678"
   ]
  },
  {
   "cell_type": "markdown",
   "id": "c7ddee55-0946-471a-81a4-e3a900dd0fd9",
   "metadata": {
    "execution": {
     "iopub.execute_input": "2024-08-01T19:50:22.165259Z",
     "iopub.status.busy": "2024-08-01T19:50:22.164739Z",
     "iopub.status.idle": "2024-08-01T19:50:22.168242Z",
     "shell.execute_reply": "2024-08-01T19:50:22.167563Z",
     "shell.execute_reply.started": "2024-08-01T19:50:22.165240Z"
    }
   },
   "source": [
    "## 2. Install Argilla client SDK"
   ]
  },
  {
   "cell_type": "code",
   "execution_count": null,
   "id": "ee59da10-6628-4be2-a3c0-76d64998170e",
   "metadata": {},
   "outputs": [],
   "source": [
    "pip install argilla -U --pre"
   ]
  },
  {
   "cell_type": "code",
   "execution_count": 5,
   "id": "372d9a5f-b2f0-461b-8ed1-ea43c9fe32a9",
   "metadata": {
    "execution": {
     "iopub.execute_input": "2024-08-01T19:51:49.571888Z",
     "iopub.status.busy": "2024-08-01T19:51:49.570912Z",
     "iopub.status.idle": "2024-08-01T19:51:49.583073Z",
     "shell.execute_reply": "2024-08-01T19:51:49.581892Z",
     "shell.execute_reply.started": "2024-08-01T19:51:49.571850Z"
    }
   },
   "outputs": [
    {
     "data": {
      "text/plain": [
       "'2.0.0'"
      ]
     },
     "execution_count": 5,
     "metadata": {},
     "output_type": "execute_result"
    }
   ],
   "source": [
    "from importlib.metadata import version\n",
    "version('argilla')"
   ]
  },
  {
   "cell_type": "markdown",
   "id": "4d571fc3-fb5c-4f41-bd8c-5246a8e86623",
   "metadata": {},
   "source": [
    "API key:\n",
    "\n",
    "> cat docker-compose.yaml\n",
    "\n",
    "API_KEY: argilla.apikey"
   ]
  },
  {
   "cell_type": "code",
   "execution_count": 7,
   "id": "d9ec150a-b221-4198-80cc-e630047c9369",
   "metadata": {
    "execution": {
     "iopub.execute_input": "2024-08-01T19:55:02.739014Z",
     "iopub.status.busy": "2024-08-01T19:55:02.738570Z",
     "iopub.status.idle": "2024-08-01T19:55:02.761010Z",
     "shell.execute_reply": "2024-08-01T19:55:02.760406Z",
     "shell.execute_reply.started": "2024-08-01T19:55:02.738994Z"
    }
   },
   "outputs": [
    {
     "data": {
      "text/plain": [
       "'argilla'"
      ]
     },
     "execution_count": 7,
     "metadata": {},
     "output_type": "execute_result"
    }
   ],
   "source": [
    "import argilla as rg\n",
    "\n",
    "client = rg.Argilla(api_url=\"http://localhost:6900/\", api_key=\"argilla.apikey\")\n",
    "\n",
    "client.me.first_name"
   ]
  },
  {
   "cell_type": "code",
   "execution_count": 24,
   "id": "00f9aaa5-b591-42fd-ab32-cc349990b959",
   "metadata": {
    "execution": {
     "iopub.execute_input": "2024-08-01T22:00:02.785163Z",
     "iopub.status.busy": "2024-08-01T22:00:02.784952Z",
     "iopub.status.idle": "2024-08-01T22:00:02.854867Z",
     "shell.execute_reply": "2024-08-01T22:00:02.853916Z",
     "shell.execute_reply.started": "2024-08-01T22:00:02.785145Z"
    }
   },
   "outputs": [],
   "source": [
    "workspace_to_create = rg.Workspace(name=\"argilla\")\n",
    "created_workspace = workspace_to_create.create()"
   ]
  },
  {
   "cell_type": "markdown",
   "id": "ab9d30b3-9c99-4e41-90dc-946eb4a393c2",
   "metadata": {},
   "source": [
    "## 3. Import Huggingface dataset"
   ]
  },
  {
   "cell_type": "markdown",
   "id": "c1eeaabd-7986-40d1-9e20-8a235021707c",
   "metadata": {},
   "source": [
    "https://huggingface.co/datasets/frenchtext/banque-fr-2311\n",
    "\n",
    "Dataset extracted from public websites by wordslab-webscraper in 2311:\n",
    "- domain: banque\n",
    "- language: fr\n",
    "- license: Apache 2.0"
   ]
  },
  {
   "cell_type": "code",
   "execution_count": null,
   "id": "b5152bf7-5883-4dde-94f1-16d587f411f7",
   "metadata": {},
   "outputs": [],
   "source": [
    "pip install datasets"
   ]
  },
  {
   "cell_type": "code",
   "execution_count": 27,
   "id": "c6d9fb7d-7b10-40f4-bfc5-9e51858b8235",
   "metadata": {
    "execution": {
     "iopub.execute_input": "2024-08-01T22:09:01.517692Z",
     "iopub.status.busy": "2024-08-01T22:09:01.517323Z",
     "iopub.status.idle": "2024-08-01T22:09:23.452919Z",
     "shell.execute_reply": "2024-08-01T22:09:23.452308Z",
     "shell.execute_reply.started": "2024-08-01T22:09:01.517667Z"
    }
   },
   "outputs": [
    {
     "data": {
      "application/vnd.jupyter.widget-view+json": {
       "model_id": "c0c8a0e6edc64bad8633068d62c5879c",
       "version_major": 2,
       "version_minor": 0
      },
      "text/plain": [
       "Downloading readme:   0%|          | 0.00/7.03k [00:00<?, ?B/s]"
      ]
     },
     "metadata": {},
     "output_type": "display_data"
    },
    {
     "data": {
      "application/vnd.jupyter.widget-view+json": {
       "model_id": "5df1f13ac93c4100adb8b455289dc7f8",
       "version_major": 2,
       "version_minor": 0
      },
      "text/plain": [
       "Resolving data files:   0%|          | 0/42 [00:00<?, ?it/s]"
      ]
     },
     "metadata": {},
     "output_type": "display_data"
    },
    {
     "data": {
      "application/vnd.jupyter.widget-view+json": {
       "model_id": "a35d260cc6084f6dbaadd5e9f3db6353",
       "version_major": 2,
       "version_minor": 0
      },
      "text/plain": [
       "Resolving data files:   0%|          | 0/42 [00:00<?, ?it/s]"
      ]
     },
     "metadata": {},
     "output_type": "display_data"
    },
    {
     "data": {
      "application/vnd.jupyter.widget-view+json": {
       "model_id": "b325c701db174f29b2572c9aa49580c6",
       "version_major": 2,
       "version_minor": 0
      },
      "text/plain": [
       "Resolving data files:   0%|          | 0/42 [00:00<?, ?it/s]"
      ]
     },
     "metadata": {},
     "output_type": "display_data"
    },
    {
     "data": {
      "application/vnd.jupyter.widget-view+json": {
       "model_id": "f7d7bce00dc342c18572b99fa982bb43",
       "version_major": 2,
       "version_minor": 0
      },
      "text/plain": [
       "Resolving data files:   0%|          | 0/42 [00:00<?, ?it/s]"
      ]
     },
     "metadata": {},
     "output_type": "display_data"
    },
    {
     "data": {
      "application/vnd.jupyter.widget-view+json": {
       "model_id": "2eb206af25ce4d7dbf5a51ab1ce96115",
       "version_major": 2,
       "version_minor": 0
      },
      "text/plain": [
       "Resolving data files:   0%|          | 0/42 [00:00<?, ?it/s]"
      ]
     },
     "metadata": {},
     "output_type": "display_data"
    },
    {
     "data": {
      "application/vnd.jupyter.widget-view+json": {
       "model_id": "922019106b9949db9788b6b988465c92",
       "version_major": 2,
       "version_minor": 0
      },
      "text/plain": [
       "Resolving data files:   0%|          | 0/42 [00:00<?, ?it/s]"
      ]
     },
     "metadata": {},
     "output_type": "display_data"
    },
    {
     "data": {
      "application/vnd.jupyter.widget-view+json": {
       "model_id": "750754e619164accab1a1a9a9f7c69aa",
       "version_major": 2,
       "version_minor": 0
      },
      "text/plain": [
       "Downloading data:   0%|          | 0/42 [00:00<?, ?files/s]"
      ]
     },
     "metadata": {},
     "output_type": "display_data"
    },
    {
     "data": {
      "application/vnd.jupyter.widget-view+json": {
       "model_id": "c7e14b13b0a64fdeae1cd8499b3bd15a",
       "version_major": 2,
       "version_minor": 0
      },
      "text/plain": [
       "Downloading data:   0%|          | 0/42 [00:00<?, ?files/s]"
      ]
     },
     "metadata": {},
     "output_type": "display_data"
    },
    {
     "data": {
      "application/vnd.jupyter.widget-view+json": {
       "model_id": "8cec3b7319a949a09a9ad77c57d176ef",
       "version_major": 2,
       "version_minor": 0
      },
      "text/plain": [
       "Downloading data:   0%|          | 0/42 [00:00<?, ?files/s]"
      ]
     },
     "metadata": {},
     "output_type": "display_data"
    },
    {
     "data": {
      "application/vnd.jupyter.widget-view+json": {
       "model_id": "ea2db0d0550a4aaaa2d460e78fdc6e97",
       "version_major": 2,
       "version_minor": 0
      },
      "text/plain": [
       "Generating train split:   0%|          | 0/68166 [00:00<?, ? examples/s]"
      ]
     },
     "metadata": {},
     "output_type": "display_data"
    },
    {
     "data": {
      "application/vnd.jupyter.widget-view+json": {
       "model_id": "30b4e4e448054cee9b83dcc69067cad4",
       "version_major": 2,
       "version_minor": 0
      },
      "text/plain": [
       "Generating valid split:   0%|          | 0/8522 [00:00<?, ? examples/s]"
      ]
     },
     "metadata": {},
     "output_type": "display_data"
    },
    {
     "data": {
      "application/vnd.jupyter.widget-view+json": {
       "model_id": "7f0abaec92f5473cb5be72627ab5a64e",
       "version_major": 2,
       "version_minor": 0
      },
      "text/plain": [
       "Generating test split:   0%|          | 0/8541 [00:00<?, ? examples/s]"
      ]
     },
     "metadata": {},
     "output_type": "display_data"
    }
   ],
   "source": [
    "from datasets import load_dataset\n",
    "\n",
    "with open(\"/workspace/myhftoken\", 'r') as file:\n",
    "    myhftoken = file.read().strip()\n",
    "\n",
    "hf_dataset = load_dataset(\"frenchtext/banque-fr-2311\",  token=myhftoken)"
   ]
  },
  {
   "cell_type": "markdown",
   "id": "1b467227-d801-41c6-949e-405d458f5632",
   "metadata": {},
   "source": [
    "```yaml\n",
    "dataset_info:\n",
    "  features:\n",
    "    - name: Uri\n",
    "      dtype: string\n",
    "    - name: Timestamp\n",
    "      dtype: string\n",
    "    - name: Lang\n",
    "      dtype: string\n",
    "    - name: Title\n",
    "      dtype: string\n",
    "    - name: Text\n",
    "      dtype: string\n",
    "    - name: Words\n",
    "      dtype: int32\n",
    "    - name: AvgWordsLength\n",
    "      dtype: int32\n",
    "    - name: Chars\n",
    "      dtype: int32\n",
    "    - name: LetterChars\n",
    "      dtype: int32\n",
    "    - name: NumberChars\n",
    "      dtype: int32\n",
    "    - name: OtherChars\n",
    "      dtype: int32\n",
    "    - name: Website\n",
    "      dtype: string\n",
    "    - name: PDF\n",
    "      dtype: bool\n",
    "  config_name: default\n",
    "  splits:\n",
    "    - name: train\n",
    "      num_examples: 68166\n",
    "    - name: valid\n",
    "      num_examples: 8522\n",
    "    - name: test\n",
    "      num_examples: 8541\n",
    "  download_size: 247147772\n",
    "  ```"
   ]
  },
  {
   "cell_type": "code",
   "execution_count": 22,
   "id": "617da703-c9e4-4512-803f-9992adfc5b9b",
   "metadata": {
    "execution": {
     "iopub.execute_input": "2024-08-01T21:57:39.579569Z",
     "iopub.status.busy": "2024-08-01T21:57:39.579367Z",
     "iopub.status.idle": "2024-08-01T21:57:39.584429Z",
     "shell.execute_reply": "2024-08-01T21:57:39.583730Z",
     "shell.execute_reply.started": "2024-08-01T21:57:39.579556Z"
    }
   },
   "outputs": [],
   "source": [
    "settings = rg.Settings(\n",
    "    guidelines=\"Explore french banking websites dataset - date \",\n",
    "    fields=[\n",
    "        rg.TextField(\n",
    "            name=\"Text\",\n",
    "            title=\"Web page text\",\n",
    "            required=True,\n",
    "            use_markdown=True,            \n",
    "        ),\n",
    "    ],\n",
    "    questions=[\n",
    "        rg.MultiLabelQuestion(\n",
    "            name=\"ContentType\",\n",
    "            title=\"Does the web page include any of these content types?\",\n",
    "            labels=[\"info\", \"news\", \"product\", \"process\", \"ads\", \"metadata\"],\n",
    "        )\n",
    "    ],\n",
    "    metadata=[\n",
    "        rg.TermsMetadataProperty(name=\"Uri\"),\n",
    "        rg.TermsMetadataProperty(name=\"Lang\"),\n",
    "        rg.IntegerMetadataProperty(name=\"Words\"),\n",
    "        rg.TermsMetadataProperty(name=\"Website\"),\n",
    "        rg.IntegerMetadataProperty(name=\"PDF\"),\n",
    "    ],\n",
    "    vectors=[\n",
    "        rg.VectorField(name=\"Text_e5_embeddings\", dimensions=768)\n",
    "    ],\n",
    ")"
   ]
  },
  {
   "cell_type": "code",
   "execution_count": 25,
   "id": "0c795000-5587-4243-ae21-90ed0db57d54",
   "metadata": {
    "execution": {
     "iopub.execute_input": "2024-08-01T22:01:48.476072Z",
     "iopub.status.busy": "2024-08-01T22:01:48.475744Z",
     "iopub.status.idle": "2024-08-01T22:01:49.361030Z",
     "shell.execute_reply": "2024-08-01T22:01:49.360547Z",
     "shell.execute_reply.started": "2024-08-01T22:01:48.476056Z"
    }
   },
   "outputs": [
    {
     "data": {
      "text/plain": [
       "Dataset(id=UUID('2cda3686-e350-4999-897d-8f30c01c81f1') inserted_at=datetime.datetime(2024, 8, 1, 22, 1, 48, 500104) updated_at=datetime.datetime(2024, 8, 1, 22, 1, 49, 262278) name='banque-fr-2311' status='ready' guidelines='Explore french banking websites dataset - date' allow_extra_metadata=False distribution=OverlapTaskDistributionModel(strategy='overlap', min_submitted=1) workspace_id=UUID('485e94ed-4e72-496c-9d92-756baea3882d') last_activity_at=datetime.datetime(2024, 8, 1, 22, 1, 49, 262278))"
      ]
     },
     "execution_count": 25,
     "metadata": {},
     "output_type": "execute_result"
    }
   ],
   "source": [
    "dataset = rg.Dataset(\n",
    "    name=\"banque-fr-2311\",\n",
    "    workspace=\"argilla\",\n",
    "    settings=settings,\n",
    ")\n",
    "\n",
    "dataset.create()"
   ]
  },
  {
   "cell_type": "code",
   "execution_count": null,
   "id": "aa2830fd-42a1-47d3-8ec1-b00a6f0ad819",
   "metadata": {},
   "outputs": [],
   "source": []
  },
  {
   "cell_type": "markdown",
   "id": "5afac48a-7ea4-4efc-bcbb-b1eb75aee78e",
   "metadata": {},
   "source": [
    "MTEB-French: Resources for French Sentence Embedding Evaluation and Analysis\n",
    "\n",
    "https://arxiv.org/pdf/2405.20468v2\n",
    "\n",
    "=> multilingual-e5-base for clustering = 768 embeddings dimensions\n",
    "\n",
    "https://github.com/microsoft/unilm/tree/master/e5\n",
    "\n",
    "https://huggingface.co/intfloat/multilingual-e5-small --- https://huggingface.co/intfloat/multilingual-e5-base"
   ]
  },
  {
   "cell_type": "code",
   "execution_count": null,
   "id": "8314c5a3-f07b-4e98-822d-2a52e10c024f",
   "metadata": {},
   "outputs": [],
   "source": [
    "pip install sentence_transformers"
   ]
  },
  {
   "cell_type": "code",
   "execution_count": 9,
   "id": "87d4791f-79d1-4808-a893-dfc7417cedfc",
   "metadata": {
    "execution": {
     "iopub.execute_input": "2024-08-01T21:39:36.095534Z",
     "iopub.status.busy": "2024-08-01T21:39:36.094908Z",
     "iopub.status.idle": "2024-08-01T21:40:20.679585Z",
     "shell.execute_reply": "2024-08-01T21:40:20.678949Z",
     "shell.execute_reply.started": "2024-08-01T21:39:36.095504Z"
    }
   },
   "outputs": [
    {
     "data": {
      "application/vnd.jupyter.widget-view+json": {
       "model_id": "c9456484a34a4a6daa9e56881e38c407",
       "version_major": 2,
       "version_minor": 0
      },
      "text/plain": [
       "modules.json:   0%|          | 0.00/387 [00:00<?, ?B/s]"
      ]
     },
     "metadata": {},
     "output_type": "display_data"
    },
    {
     "data": {
      "application/vnd.jupyter.widget-view+json": {
       "model_id": "dd9e8db5398b47b4a08f769a3077f7a7",
       "version_major": 2,
       "version_minor": 0
      },
      "text/plain": [
       "README.md:   0%|          | 0.00/179k [00:00<?, ?B/s]"
      ]
     },
     "metadata": {},
     "output_type": "display_data"
    },
    {
     "data": {
      "application/vnd.jupyter.widget-view+json": {
       "model_id": "6ed95b34cfab4a2e80e43b1e5497b565",
       "version_major": 2,
       "version_minor": 0
      },
      "text/plain": [
       "sentence_bert_config.json:   0%|          | 0.00/57.0 [00:00<?, ?B/s]"
      ]
     },
     "metadata": {},
     "output_type": "display_data"
    },
    {
     "data": {
      "application/vnd.jupyter.widget-view+json": {
       "model_id": "bbb6638ed1234a1999e84b15799848a2",
       "version_major": 2,
       "version_minor": 0
      },
      "text/plain": [
       "config.json:   0%|          | 0.00/694 [00:00<?, ?B/s]"
      ]
     },
     "metadata": {},
     "output_type": "display_data"
    },
    {
     "data": {
      "application/vnd.jupyter.widget-view+json": {
       "model_id": "5fc98c9fef934ea49f52899cdc1d4f43",
       "version_major": 2,
       "version_minor": 0
      },
      "text/plain": [
       "model.safetensors:   0%|          | 0.00/1.11G [00:00<?, ?B/s]"
      ]
     },
     "metadata": {},
     "output_type": "display_data"
    },
    {
     "data": {
      "application/vnd.jupyter.widget-view+json": {
       "model_id": "daa922b6b2c24fad9de75683f58f92a3",
       "version_major": 2,
       "version_minor": 0
      },
      "text/plain": [
       "tokenizer_config.json:   0%|          | 0.00/418 [00:00<?, ?B/s]"
      ]
     },
     "metadata": {},
     "output_type": "display_data"
    },
    {
     "data": {
      "application/vnd.jupyter.widget-view+json": {
       "model_id": "ae6dd6627d6649dd87639d2a346d0358",
       "version_major": 2,
       "version_minor": 0
      },
      "text/plain": [
       "sentencepiece.bpe.model:   0%|          | 0.00/5.07M [00:00<?, ?B/s]"
      ]
     },
     "metadata": {},
     "output_type": "display_data"
    },
    {
     "data": {
      "application/vnd.jupyter.widget-view+json": {
       "model_id": "c02f7292a680424ba054f2a034af8cef",
       "version_major": 2,
       "version_minor": 0
      },
      "text/plain": [
       "tokenizer.json:   0%|          | 0.00/17.1M [00:00<?, ?B/s]"
      ]
     },
     "metadata": {},
     "output_type": "display_data"
    },
    {
     "data": {
      "application/vnd.jupyter.widget-view+json": {
       "model_id": "d0211a31a9ce4fe3a6baf76d7d300a6b",
       "version_major": 2,
       "version_minor": 0
      },
      "text/plain": [
       "special_tokens_map.json:   0%|          | 0.00/280 [00:00<?, ?B/s]"
      ]
     },
     "metadata": {},
     "output_type": "display_data"
    },
    {
     "data": {
      "application/vnd.jupyter.widget-view+json": {
       "model_id": "55a8178ea6054098b299d6db74c13990",
       "version_major": 2,
       "version_minor": 0
      },
      "text/plain": [
       "1_Pooling/config.json:   0%|          | 0.00/200 [00:00<?, ?B/s]"
      ]
     },
     "metadata": {},
     "output_type": "display_data"
    }
   ],
   "source": [
    "from sentence_transformers import SentenceTransformer\n",
    "model = SentenceTransformer('intfloat/multilingual-e5-base')"
   ]
  },
  {
   "cell_type": "code",
   "execution_count": 16,
   "id": "8ae9f27d-f483-4472-8f11-80f9a1430a81",
   "metadata": {
    "execution": {
     "iopub.execute_input": "2024-08-01T21:41:41.257357Z",
     "iopub.status.busy": "2024-08-01T21:41:41.257056Z",
     "iopub.status.idle": "2024-08-01T21:41:42.301592Z",
     "shell.execute_reply": "2024-08-01T21:41:42.301021Z",
     "shell.execute_reply.started": "2024-08-01T21:41:41.257337Z"
    }
   },
   "outputs": [],
   "source": [
    "input_texts = [\n",
    "    'query: how much protein should a female eat',\n",
    "    'query: 南瓜的家常做法',\n",
    "    \"passage: As a general guideline, the CDC's average requirement of protein for women ages 19 to 70 i     s 46 grams per day. But, as you can see from this chart, you'll need to increase that if you're expecting or traini     ng for a marathon. Check out the chart below to see how much protein you should be eating each day.\",\n",
    "    \"passage: 1.清炒南瓜丝 原料:嫩南瓜半个 调料:葱、盐、白糖、鸡精 做法: 1、南瓜用刀薄薄的削去表面一层皮     ,用勺子刮去瓤 2、擦成细丝(没有擦菜板就用刀慢慢切成细丝) 3、锅烧热放油,入葱花煸出香味 4、入南瓜丝快速翻炒一分钟左右,     放盐、一点白糖和鸡精调味出锅 2.香葱炒南瓜 原料:南瓜1只 调料:香葱、蒜末、橄榄油、盐 做法: 1、将南瓜去皮,切成片 2、油     锅8成热后,将蒜末放入爆香 3、爆香后,将南瓜片放入,翻炒 4、在翻炒的同时,可以不时地往锅里加水,但不要太多 5、放入盐,炒匀      6、南瓜差不多软和绵了之后,就可以关火 7、撒入香葱,即可出锅\"\n",
    "]\n",
    "embeddings = model.encode(input_texts, normalize_embeddings=True)"
   ]
  },
  {
   "cell_type": "code",
   "execution_count": 17,
   "id": "89955e09-7184-4437-a3f8-e16534d300e2",
   "metadata": {
    "execution": {
     "iopub.execute_input": "2024-08-01T21:41:46.408752Z",
     "iopub.status.busy": "2024-08-01T21:41:46.408306Z",
     "iopub.status.idle": "2024-08-01T21:41:46.417123Z",
     "shell.execute_reply": "2024-08-01T21:41:46.416050Z",
     "shell.execute_reply.started": "2024-08-01T21:41:46.408722Z"
    }
   },
   "outputs": [
    {
     "data": {
      "text/plain": [
       "(4, 768)"
      ]
     },
     "execution_count": 17,
     "metadata": {},
     "output_type": "execute_result"
    }
   ],
   "source": [
    "embeddings.shape"
   ]
  },
  {
   "cell_type": "code",
   "execution_count": 18,
   "id": "14e7a65e-1bfa-4950-be2b-daaa4c0d7a3f",
   "metadata": {
    "execution": {
     "iopub.execute_input": "2024-08-01T21:47:20.777197Z",
     "iopub.status.busy": "2024-08-01T21:47:20.776881Z",
     "iopub.status.idle": "2024-08-01T21:47:41.567238Z",
     "shell.execute_reply": "2024-08-01T21:47:41.566464Z",
     "shell.execute_reply.started": "2024-08-01T21:47:20.777175Z"
    }
   },
   "outputs": [
    {
     "data": {
      "application/vnd.jupyter.widget-view+json": {
       "model_id": "a9f76648f82d41a3b214a7957d076571",
       "version_major": 2,
       "version_minor": 0
      },
      "text/plain": [
       "modules.json:   0%|          | 0.00/387 [00:00<?, ?B/s]"
      ]
     },
     "metadata": {},
     "output_type": "display_data"
    },
    {
     "data": {
      "application/vnd.jupyter.widget-view+json": {
       "model_id": "ab7cc1d373a04f25b167123e65a62ff7",
       "version_major": 2,
       "version_minor": 0
      },
      "text/plain": [
       "README.md:   0%|          | 0.00/498k [00:00<?, ?B/s]"
      ]
     },
     "metadata": {},
     "output_type": "display_data"
    },
    {
     "data": {
      "application/vnd.jupyter.widget-view+json": {
       "model_id": "ad1d7e8b0dab41388fe3a28403382249",
       "version_major": 2,
       "version_minor": 0
      },
      "text/plain": [
       "sentence_bert_config.json:   0%|          | 0.00/57.0 [00:00<?, ?B/s]"
      ]
     },
     "metadata": {},
     "output_type": "display_data"
    },
    {
     "data": {
      "application/vnd.jupyter.widget-view+json": {
       "model_id": "38d912d4aa0b47a68ae0ea4c1016df9e",
       "version_major": 2,
       "version_minor": 0
      },
      "text/plain": [
       "config.json:   0%|          | 0.00/655 [00:00<?, ?B/s]"
      ]
     },
     "metadata": {},
     "output_type": "display_data"
    },
    {
     "data": {
      "application/vnd.jupyter.widget-view+json": {
       "model_id": "dbdfa534ea7b46989547f0b59eaa73f2",
       "version_major": 2,
       "version_minor": 0
      },
      "text/plain": [
       "model.safetensors:   0%|          | 0.00/471M [00:00<?, ?B/s]"
      ]
     },
     "metadata": {},
     "output_type": "display_data"
    },
    {
     "data": {
      "application/vnd.jupyter.widget-view+json": {
       "model_id": "f1b43774b9334c49824011b21161ce2b",
       "version_major": 2,
       "version_minor": 0
      },
      "text/plain": [
       "tokenizer_config.json:   0%|          | 0.00/443 [00:00<?, ?B/s]"
      ]
     },
     "metadata": {},
     "output_type": "display_data"
    },
    {
     "data": {
      "application/vnd.jupyter.widget-view+json": {
       "model_id": "d0b0d5ea873245188a39b8c9b3391033",
       "version_major": 2,
       "version_minor": 0
      },
      "text/plain": [
       "sentencepiece.bpe.model:   0%|          | 0.00/5.07M [00:00<?, ?B/s]"
      ]
     },
     "metadata": {},
     "output_type": "display_data"
    },
    {
     "data": {
      "application/vnd.jupyter.widget-view+json": {
       "model_id": "c7af3dd27b094d2d8af021a67613cfad",
       "version_major": 2,
       "version_minor": 0
      },
      "text/plain": [
       "tokenizer.json:   0%|          | 0.00/17.1M [00:00<?, ?B/s]"
      ]
     },
     "metadata": {},
     "output_type": "display_data"
    },
    {
     "data": {
      "application/vnd.jupyter.widget-view+json": {
       "model_id": "ac5f0f16269e4acbb4cc6ed10ff568f9",
       "version_major": 2,
       "version_minor": 0
      },
      "text/plain": [
       "special_tokens_map.json:   0%|          | 0.00/167 [00:00<?, ?B/s]"
      ]
     },
     "metadata": {},
     "output_type": "display_data"
    },
    {
     "data": {
      "application/vnd.jupyter.widget-view+json": {
       "model_id": "31cb536f1ef6457c8813454f1e3bafba",
       "version_major": 2,
       "version_minor": 0
      },
      "text/plain": [
       "1_Pooling/config.json:   0%|          | 0.00/200 [00:00<?, ?B/s]"
      ]
     },
     "metadata": {},
     "output_type": "display_data"
    },
    {
     "data": {
      "text/plain": [
       "(4, 768)"
      ]
     },
     "execution_count": 18,
     "metadata": {},
     "output_type": "execute_result"
    }
   ],
   "source": [
    "models = SentenceTransformer('intfloat/multilingual-e5-small')"
   ]
  },
  {
   "cell_type": "code",
   "execution_count": 21,
   "id": "fdeb9559-9447-4516-b490-1d59dbc48b38",
   "metadata": {
    "execution": {
     "iopub.execute_input": "2024-08-01T21:48:00.672203Z",
     "iopub.status.busy": "2024-08-01T21:48:00.671555Z",
     "iopub.status.idle": "2024-08-01T21:48:00.832591Z",
     "shell.execute_reply": "2024-08-01T21:48:00.831884Z",
     "shell.execute_reply.started": "2024-08-01T21:48:00.672177Z"
    }
   },
   "outputs": [
    {
     "data": {
      "text/plain": [
       "(4, 384)"
      ]
     },
     "execution_count": 21,
     "metadata": {},
     "output_type": "execute_result"
    }
   ],
   "source": [
    "embeddings = models.encode(input_texts, normalize_embeddings=True)\n",
    "embeddings.shape"
   ]
  },
  {
   "cell_type": "code",
   "execution_count": null,
   "id": "8c5a192f-199c-4074-96ac-5bb4fbadd48c",
   "metadata": {},
   "outputs": [],
   "source": []
  }
 ],
 "metadata": {
  "kernelspec": {
   "display_name": "instructlab-local",
   "language": "python",
   "name": "instructlab-local"
  },
  "language_info": {
   "codemirror_mode": {
    "name": "ipython",
    "version": 3
   },
   "file_extension": ".py",
   "mimetype": "text/x-python",
   "name": "python",
   "nbconvert_exporter": "python",
   "pygments_lexer": "ipython3",
   "version": "3.11.9"
  }
 },
 "nbformat": 4,
 "nbformat_minor": 5
}
